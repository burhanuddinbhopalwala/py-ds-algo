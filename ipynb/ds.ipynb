{
 "cells": [
  {
   "cell_type": "markdown",
   "id": "82652add",
   "metadata": {},
   "source": [
    "# Data Structures (DS) & Algorithms"
   ]
  },
  {
   "cell_type": "code",
   "execution_count": null,
   "id": "84defd2e",
   "metadata": {},
   "outputs": [],
   "source": [
    "import pdb"
   ]
  },
  {
   "cell_type": "code",
   "execution_count": null,
   "id": "1b03cf6b",
   "metadata": {},
   "outputs": [
    {
     "data": {
      "text/plain": [
       "'/home/jovyan/.jupyter'"
      ]
     },
     "execution_count": 46,
     "metadata": {},
     "output_type": "execute_result"
    }
   ],
   "source": [
    "import jupyter_core\n",
    "jupyter_core.paths.jupyter_config_dir()"
   ]
  },
  {
   "cell_type": "markdown",
   "id": "b535b7b3",
   "metadata": {},
   "source": [
    "## 01 Array"
   ]
  },
  {
   "cell_type": "markdown",
   "id": "c6c07faa",
   "metadata": {},
   "source": [
    "### 01 count distinct pair given target sum"
   ]
  },
  {
   "cell_type": "code",
   "execution_count": null,
   "id": "5b8caf65",
   "metadata": {},
   "outputs": [],
   "source": [
    "MAX_NUM = 99999"
   ]
  },
  {
   "cell_type": "code",
   "execution_count": null,
   "id": "14642d1a",
   "metadata": {},
   "outputs": [
    {
     "name": "stdout",
     "output_type": "stream",
     "text": [
      "Found pair (10, 5)\n",
      "Found pair (13, 2)\n",
      "2\n"
     ]
    }
   ],
   "source": [
    "def count_pair_given_sum(arr: list, pair_sum: int) -> int:\n",
    "    result = 0\n",
    "    arr = set(arr)\n",
    "    size = len(arr)\n",
    "    h = [0] * MAX_NUM\n",
    "\n",
    "    for ele in arr:\n",
    "        temp = pair_sum - ele\n",
    "        if h[temp]:\n",
    "            print(f'Found pair ({ele}, {temp})')\n",
    "            result += 1\n",
    "        h[ele] = 1\n",
    "\n",
    "    return result\n",
    "\n",
    "arr = [1, 5, 10, 9, 7, 3, 2, 13, 10]\n",
    "print(count_pair_given_sum(arr, 15))\n",
    "# * TC = O(n), SC = O(1)"
   ]
  },
  {
   "cell_type": "markdown",
   "id": "8a8c02cf",
   "metadata": {},
   "source": [
    "#### count distinct pair given target diff"
   ]
  },
  {
   "cell_type": "code",
   "execution_count": null,
   "id": "20615165",
   "metadata": {},
   "outputs": [
    {
     "ename": "",
     "evalue": "",
     "output_type": "error",
     "traceback": [
      "\u001b[1;31mRunning cells with '.venv' requires the ipykernel package.\n",
      "\u001b[1;31mRun the following command to install 'ipykernel' into the Python environment. \n",
      "\u001b[1;31mCommand: '/Users/burhanuddinbhopalwala/Desktop/apps/py-ds-algo/.venv/bin/python3 -m pip install ipykernel -U --force-reinstall'"
     ]
    }
   ],
   "source": [
    "def count_pair_given_diff(arr: list, diff: int) -> int:\n",
    "    result = 0\n",
    "    arr = set(arr)\n",
    "    size = len(arr)\n",
    "    diff = abs(diff)\n",
    "    h = [0] * MAX_NUM\n",
    "\n",
    "    for ele in arr:\n",
    "        if h[ele]:\n",
    "            print(f'Found pair ({ele}, {ele - diff})')\n",
    "            result += 1\n",
    "        temp = diff + ele\n",
    "        h[temp] = 1\n",
    "\n",
    "    return result\n",
    "\n",
    "arr = [6, 5, 4, 3, 2, 1]\n",
    "print(count_pair_given_diff(arr, -2))\n",
    "# * TC = O(n), SC = O(1)"
   ]
  },
  {
   "cell_type": "markdown",
   "id": "ffaa9aeb",
   "metadata": {},
   "source": [
    "### 02 find_majority_element / Moore voting algorithm"
   ]
  },
  {
   "cell_type": "code",
   "execution_count": 108,
   "id": "c7205cd3",
   "metadata": {},
   "outputs": [
    {
     "name": "stdout",
     "output_type": "stream",
     "text": [
      "7\n"
     ]
    }
   ],
   "source": [
    "def find_majority_element(arr: list) -> int:\n",
    "    majority_index = 0\n",
    "    majority_count = 1\n",
    "\n",
    "    for index, ele in enumerate(arr[1:], 1):\n",
    "        majority_count += 1 if arr[majority_index] == ele else -1\n",
    "\n",
    "        if majority_count == 0:\n",
    "            majority_count = 1\n",
    "            majority_index = index\n",
    "\n",
    "    return arr[majority_index]\n",
    "\n",
    "arr = [1, 5, 10, 9, 7, 7, 7]\n",
    "print(find_majority_element(arr))\n",
    "# * TC = O(n), SC = O(1)"
   ]
  },
  {
   "cell_type": "markdown",
   "id": "b3751ffc",
   "metadata": {},
   "source": [
    "### 03 find the maxm difference b/w 2 elements such that larger element appear after smaller ele"
   ]
  },
  {
   "cell_type": "code",
   "execution_count": 51,
   "id": "ceda5316",
   "metadata": {},
   "outputs": [
    {
     "name": "stdout",
     "output_type": "stream",
     "text": [
      "(1, 10, 9)\n"
     ]
    }
   ],
   "source": [
    "def get_maxm_diff(arr: list) -> tuple:\n",
    "    size = len(arr)\n",
    "    if size == 0: return ()\n",
    "    if size == 1: return (-1)\n",
    "    if size == 2: return (arr[1] - arr[0])\n",
    "\n",
    "    min_ele_so_far = arr[0]\n",
    "    max_ele_so_far = arr[1]\n",
    "    max_diff_so_far = max_ele_so_far - min_ele_so_far\n",
    "\n",
    "    for ele in arr[2:]:\n",
    "        min_ele_so_far = ele if ele < min_ele_so_far else min_ele_so_far\n",
    "        max_ele_so_far = ele if ele > max_ele_so_far else max_ele_so_far\n",
    "        max_diff_so_far = max_ele_so_far - min_ele_so_far\n",
    "\n",
    "    return (min_ele_so_far, max_ele_so_far, max_diff_so_far)\n",
    "\n",
    "arr = [1, 5, 10, 9, 7, 3, 2]\n",
    "print(get_maxm_diff(arr))\n",
    "# * TC = O(n), SC = O(1)"
   ]
  },
  {
   "cell_type": "markdown",
   "id": "7dcbd499",
   "metadata": {},
   "source": [
    "### 04 find the only element with odd occurrences"
   ]
  },
  {
   "cell_type": "code",
   "execution_count": 54,
   "id": "7bff9714",
   "metadata": {},
   "outputs": [
    {
     "name": "stdout",
     "output_type": "stream",
     "text": [
      "1\n"
     ]
    }
   ],
   "source": [
    "from functools import reduce\n",
    "\n",
    "def find_only_odd_occ_ele(arr: list):\n",
    "    return reduce(lambda x, y: x ^ y, arr, 0)\n",
    "\n",
    "arr = [1, 1, 1, 2, 3, 3, 2, 4, 4, 5, 5]\n",
    "print(find_only_odd_occ_ele(arr))\n",
    "# * TC = O(n), SC = O(1)"
   ]
  },
  {
   "cell_type": "markdown",
   "id": "aa965f81",
   "metadata": {},
   "source": [
    "### 05 seperate 0's and 1's in an array - inplace"
   ]
  },
  {
   "cell_type": "code",
   "execution_count": 59,
   "id": "3721f4f2",
   "metadata": {},
   "outputs": [
    {
     "name": "stdout",
     "output_type": "stream",
     "text": [
      "After 0s and 1s seperation: [0, 0, 1, 1, 1]\n"
     ]
    }
   ],
   "source": [
    "def seperate_0s_1s(arr: list) -> list:\n",
    "    size = len(arr)\n",
    "    left, right = 0, size - 1\n",
    "\n",
    "    while left < right:\n",
    "        while left < right and arr[left] == 0:\n",
    "            left += 1\n",
    "        while left < right and arr[right] == 1:\n",
    "            right -= 1\n",
    "\n",
    "        if left < right:\n",
    "            arr[left] = 0\n",
    "            arr[right] = 1\n",
    "\n",
    "        left += 1\n",
    "        right -= 1\n",
    "\n",
    "    return arr\n",
    "\n",
    "arr = [1, 0, 1, 0, 1]\n",
    "seperate_0s_1s(arr) # * In python it's always pass by reference.\n",
    "print(f'After 0s and 1s seperation: {arr}')\n",
    "# * TC = O(n), SC = O(1)"
   ]
  },
  {
   "cell_type": "markdown",
   "id": "de70e34f",
   "metadata": {},
   "source": [
    "#### Seperate_negatives_from_positives"
   ]
  },
  {
   "cell_type": "code",
   "execution_count": 10,
   "id": "6b13379b",
   "metadata": {},
   "outputs": [
    {
     "name": "stdout",
     "output_type": "stream",
     "text": [
      "[-3, -2, -1, 1, 2, 3]\n"
     ]
    }
   ],
   "source": [
    "def seperate_negatives_from_positives(arr: list) -> list:\n",
    "    size = len(arr)\n",
    "    left, right = 0, size - 1\n",
    "\n",
    "    while left < right:\n",
    "        while left < right and arr[left] < 0 and arr[right] < 0:\n",
    "            left += 1\n",
    "        while left < right and arr[left] > 0 and arr[right] > 0:\n",
    "            right -= 1\n",
    "\n",
    "        if arr[left] > 0 and arr[right] < 0 and left < right:\n",
    "            arr[left], arr[right] = arr[right], arr[left]\n",
    "\n",
    "        left += 1\n",
    "        right -= 1\n",
    "\n",
    "    return arr\n",
    "\n",
    "arr = [3, 2, 1, -1, -2, -3]\n",
    "print(seperate_negatives_from_positives(arr))"
   ]
  },
  {
   "cell_type": "markdown",
   "id": "e7f0cc42",
   "metadata": {},
   "source": [
    "#### find the subarray with given target sum - with positive nums"
   ]
  },
  {
   "cell_type": "code",
   "execution_count": 72,
   "id": "dcc45fad",
   "metadata": {},
   "outputs": [
    {
     "name": "stdout",
     "output_type": "stream",
     "text": [
      "(1, 4)\n"
     ]
    }
   ],
   "source": [
    "def find_subarray_with_target_sum(arr: list, target_sum: int) -> tuple:\n",
    "    size = len(arr)\n",
    "    if size == 0: return ()\n",
    "    if size == 1: return (arr[0]) if arr[0] == target_sum else (-1)\n",
    "\n",
    "    left, right = 0, left + 1\n",
    "    curr_sum = arr[left] + arr[right]\n",
    "    while left < right and right < size:\n",
    "        if curr_sum == target_sum: return (left, right)\n",
    "        elif curr_sum > sum: curr_sum, left = curr_sum - arr[left], left + 1\n",
    "        else:\n",
    "            if right + 1 == size: return (-1, -1)\n",
    "            right, curr_sum = right + 1, curr_sum + arr[right]\n",
    "\n",
    "arr = [5, 6, 7, 3, 4, 1]\n",
    "print(find_subarray_with_target_sum(arr, 20))\n",
    "# * TC = O(n), SC = O(1)"
   ]
  },
  {
   "cell_type": "markdown",
   "id": "90271e0a",
   "metadata": {},
   "source": [
    "### 06 find the equilibrium index in an array"
   ]
  },
  {
   "cell_type": "code",
   "execution_count": 62,
   "id": "a75f3045",
   "metadata": {},
   "outputs": [
    {
     "name": "stdout",
     "output_type": "stream",
     "text": [
      "3\n"
     ]
    }
   ],
   "source": [
    "def find_eq_index(arr: list):\n",
    "    size = len(arr)\n",
    "    left_sum, right_sum = 0, 0\n",
    "\n",
    "    for index, ele in enumerate(arr):\n",
    "        right_sum += ele\n",
    "\n",
    "    for index, ele in enumerate(arr):\n",
    "        right_sum -= ele\n",
    "        if left_sum == right_sum: return index\n",
    "        left_sum += ele\n",
    "\n",
    "    return -1\n",
    "\n",
    "arr = [-7, 1, 5, 2, -4, 3, 0]\n",
    "print(find_eq_index(arr))\n",
    "# * TC = O(n), SC = O(1)"
   ]
  },
  {
   "cell_type": "markdown",
   "id": "16e2190c",
   "metadata": {},
   "source": [
    "### 08 rotate given array by d distance - inplace"
   ]
  },
  {
   "cell_type": "code",
   "execution_count": 66,
   "id": "728181de",
   "metadata": {},
   "outputs": [
    {
     "name": "stdout",
     "output_type": "stream",
     "text": [
      "[3, 4, 5, 6, 7, 1, 2]\n"
     ]
    }
   ],
   "source": [
    "def reverse_inplace(arr, start, end):\n",
    "    while start < end:\n",
    "        arr[start], arr[end] = arr[start], arr[end]\n",
    "        start, end = start + 1, end - 1\n",
    "\n",
    "def reverse_by_d_dist(arr: list, d: int):\n",
    "    size = len(arr)\n",
    "    reverse_inplace(arr, 0, d - 1)\n",
    "    reverse_inplace(arr, d, size - 1)\n",
    "    reverse_inplace(arr, 0, size - 1)\n",
    "\n",
    "    return arr\n",
    "\n",
    "arr = [1 , 2, 3, 4, 5, 6, 7]\n",
    "print(reverse_by_d_dist(arr, 2))\n",
    "# * Naive approach - TC = O(n), SC = O(n)\n",
    "# * Optimize approach - TC = O(n), SC = O(1)"
   ]
  },
  {
   "cell_type": "markdown",
   "id": "e0103c1b",
   "metadata": {},
   "source": [
    "### 09 tapping rain water problem"
   ]
  },
  {
   "cell_type": "code",
   "execution_count": 18,
   "id": "c027ad59",
   "metadata": {},
   "outputs": [
    {
     "name": "stdout",
     "output_type": "stream",
     "text": [
      "6\n"
     ]
    }
   ],
   "source": [
    "def tapping_rain_water(arr: list) -> int:\n",
    "    size = len(arr)\n",
    "    results = [0] * size\n",
    "    left_max_bar = [0] * size\n",
    "    right_max_bar = [0] * size\n",
    "\n",
    "    left_max_bar[0] = arr[0]\n",
    "    right_max_bar[-1] = arr[-1]\n",
    "\n",
    "    for index, ele in enumerate(arr[1:], 1):\n",
    "        left_max_bar[index] = max(left_max_bar[index - 1], ele)\n",
    "\n",
    "    for index, ele in enumerate(arr[-2::-1], 1):\n",
    "        right_max_bar[size - index - 1] = max(right_max_bar[size - index], ele)\n",
    "\n",
    "    for index in range(0, size):\n",
    "        results[index] = min(left_max_bar[index], right_max_bar[index]) - arr[index]\n",
    "\n",
    "    return sum(results)\n",
    "\n",
    "arr = [0, 1, 0, 2, 1, 0, 1, 3, 2, 1, 2, 1]\n",
    "print(tapping_rain_water(arr))\n",
    "# * TC = O(n), SC = O(n)"
   ]
  },
  {
   "cell_type": "markdown",
   "id": "b1bdb78a",
   "metadata": {},
   "source": [
    "### 10 construct prod[i] such that prod[i] = mul(arr) / arr[i] w/o using division operator"
   ]
  },
  {
   "cell_type": "code",
   "execution_count": 76,
   "id": "2162d5c6",
   "metadata": {},
   "outputs": [
    {
     "name": "stdout",
     "output_type": "stream",
     "text": [
      "[630, 2100, 1050, 900, 1260]\n"
     ]
    }
   ],
   "source": [
    "def prod_wo_div(arr):\n",
    "        size = len(arr)\n",
    "        temp, prods = 1, [1] * size\n",
    "\n",
    "        prods[0] = temp\n",
    "        for index, ele in enumerate(arr):\n",
    "            prods[index] = temp\n",
    "            temp *= ele\n",
    "\n",
    "        temp = 1\n",
    "        for index, ele in enumerate(arr[::-1], 1):\n",
    "            prods[size - index] *= temp\n",
    "            temp *= ele\n",
    "\n",
    "        return prods\n",
    "\n",
    "arr = [10, 3, 6, 7, 5]\n",
    "print(prod_wo_div(arr))\n",
    "# * TC = O(n), SC = O(1)"
   ]
  },
  {
   "cell_type": "markdown",
   "id": "a0946b11",
   "metadata": {},
   "source": [
    "## 02 LinkedList"
   ]
  },
  {
   "cell_type": "code",
   "execution_count": 66,
   "id": "9d24d2b5",
   "metadata": {},
   "outputs": [],
   "source": [
    "class LinkedListNode(object):\n",
    "    def __init__(self, ele: int):\n",
    "        self.ele = ele\n",
    "        self.next = None\n",
    "        self.arbt = None\n",
    "\n",
    "\n",
    "class LinkedList(object):\n",
    "    def __init__(self):\n",
    "        self.head = None\n",
    "        \n",
    "    def push(self, ele: int):\n",
    "        if self.head:\n",
    "            node = LinkedListNode(ele)\n",
    "            current = self.head\n",
    "            while current.next:\n",
    "                current = current.next\n",
    "            current.next = node\n",
    "        else:\n",
    "            self.head = LinkedListNode(ele)\n",
    "            self.head.next = None\n",
    "            \n",
    "    def pop(self, ele):\n",
    "        current = self.head\n",
    "        \n",
    "        if current.ele == ele:\n",
    "            if current.next:\n",
    "                self.head = current.next\n",
    "                return \n",
    "            else:\n",
    "                self.head = None\n",
    "                return\n",
    "            \n",
    "        while current:\n",
    "            if current.next and current.next.ele == ele:\n",
    "                current.next = current.next.next\n",
    "                return\n",
    "            else:\n",
    "                current = current.next\n",
    "                \n",
    "    def print(self, sep='', end=''):\n",
    "        current = self.head\n",
    "        while current:\n",
    "            print(current.ele, sep, end)\n",
    "            current = current.next\n",
    "            \n",
    "    def print_by_arbt(self, sep='', end=''):\n",
    "        current = self.head\n",
    "        while current:\n",
    "            print(current.arbt.ele, sep, end)\n",
    "            current = current.next"
   ]
  },
  {
   "cell_type": "code",
   "execution_count": 67,
   "id": "9f4348ca",
   "metadata": {},
   "outputs": [
    {
     "name": "stdout",
     "output_type": "stream",
     "text": [
      "1  \n",
      "2  \n",
      "3  \n",
      "4  \n",
      "5  \n"
     ]
    }
   ],
   "source": [
    "linked_list = LinkedList()\n",
    "linked_list.push(1)\n",
    "linked_list.push(2)\n",
    "linked_list.push(3)\n",
    "linked_list.push(99)\n",
    "linked_list.push(101)\n",
    "linked_list.push(4)\n",
    "linked_list.push(5)\n",
    "\n",
    "linked_list.pop(99)\n",
    "linked_list.pop(101)\n",
    "linked_list.print()"
   ]
  },
  {
   "cell_type": "markdown",
   "id": "0143c567",
   "metadata": {},
   "source": [
    "### 01 reverse_inplace()"
   ]
  },
  {
   "cell_type": "code",
   "execution_count": 60,
   "id": "7a56349f",
   "metadata": {},
   "outputs": [
    {
     "name": "stdout",
     "output_type": "stream",
     "text": [
      "5  \n",
      "4  \n",
      "3  \n",
      "2  \n",
      "1  \n"
     ]
    }
   ],
   "source": [
    "linked_list = LinkedList()\n",
    "linked_list.push(1)\n",
    "linked_list.push(2)\n",
    "linked_list.push(3)\n",
    "linked_list.push(4)\n",
    "linked_list.push(5)\n",
    "\n",
    "def reverse_inplace(self):\n",
    "        current = self.head\n",
    "        previous, next_ = None, None\n",
    "        \n",
    "        while current:\n",
    "            next_ = current.next\n",
    "            current.next = previous\n",
    "            previous = current\n",
    "            current = next_\n",
    "            \n",
    "        self.head = previous\n",
    "        return self.head\n",
    "    \n",
    "reverse_inplace(linked_list)\n",
    "linked_list.print()"
   ]
  },
  {
   "cell_type": "markdown",
   "id": "32b3c8bc",
   "metadata": {},
   "source": [
    "### 02 find_middle_node()\n",
    "#### Hair Tortoize problem"
   ]
  },
  {
   "cell_type": "code",
   "execution_count": 22,
   "id": "0cfd56ab",
   "metadata": {},
   "outputs": [
    {
     "name": "stdout",
     "output_type": "stream",
     "text": [
      "3\n"
     ]
    }
   ],
   "source": [
    "linked_list = LinkedList()\n",
    "linked_list.push(1)\n",
    "linked_list.push(2)\n",
    "linked_list.push(3)\n",
    "linked_list.push(4)\n",
    "linked_list.push(5)\n",
    "\n",
    "def find_middle_node(self):\n",
    "    slow, fast = self.head, self.head\n",
    "    \n",
    "    while fast and fast.next:\n",
    "        slow = slow.next\n",
    "        fast = fast.next.next\n",
    "\n",
    "    return slow.ele\n",
    "\n",
    "print(find_middle_node(linked_list))"
   ]
  },
  {
   "cell_type": "markdown",
   "id": "ffe55c60",
   "metadata": {},
   "source": [
    "#### Floyd’s Cycle-Finding Algorithm"
   ]
  },
  {
   "cell_type": "code",
   "execution_count": 24,
   "id": "d4357bd9",
   "metadata": {},
   "outputs": [
    {
     "name": "stdout",
     "output_type": "stream",
     "text": [
      "False\n"
     ]
    }
   ],
   "source": [
    "linked_list = LinkedList()\n",
    "linked_list.push(1)\n",
    "linked_list.push(2)\n",
    "linked_list.push(3)\n",
    "linked_list.push(4)\n",
    "linked_list.push(5)\n",
    "\n",
    "def detect_cycle(self):\n",
    "    slow, fast = self.head, self.head\n",
    "    \n",
    "    while fast and fast.next:\n",
    "        slow = slow.next\n",
    "        fast = fast.next.next\n",
    "        \n",
    "        if fast == slow:\n",
    "            return True\n",
    "        \n",
    "    return False\n",
    "\n",
    "print(detect_cycle(linked_list))"
   ]
  },
  {
   "cell_type": "markdown",
   "id": "5afc23a0",
   "metadata": {},
   "source": [
    "### 03 find_kth_node()"
   ]
  },
  {
   "cell_type": "code",
   "execution_count": 41,
   "id": "517ea06c",
   "metadata": {},
   "outputs": [
    {
     "name": "stdout",
     "output_type": "stream",
     "text": [
      "2\n"
     ]
    }
   ],
   "source": [
    "linked_list = LinkedList()\n",
    "linked_list.push(1)\n",
    "linked_list.push(2)\n",
    "linked_list.push(3)\n",
    "linked_list.push(4)\n",
    "linked_list.push(5)\n",
    "\n",
    "def find_kth_node(self, k: int):\n",
    "    p, q = self.head, self.head\n",
    "\n",
    "    while k > 0:\n",
    "        p = p.next\n",
    "        k -= 1\n",
    "    \n",
    "    if not p:\n",
    "        return -1\n",
    "    \n",
    "    while p:\n",
    "        p = p.next\n",
    "        q = q.next\n",
    "\n",
    "    return q.ele\n",
    "\n",
    "print(find_kth_node(linked_list, k=4))"
   ]
  },
  {
   "cell_type": "markdown",
   "id": "f0115f34",
   "metadata": {},
   "source": [
    "### 04 alternate_split()"
   ]
  },
  {
   "cell_type": "code",
   "execution_count": 38,
   "id": "86a60d21",
   "metadata": {},
   "outputs": [
    {
     "name": "stdout",
     "output_type": "stream",
     "text": [
      "1\n",
      "3\n",
      "5\n",
      "---------------\n",
      "2\n",
      "4\n",
      "5\n"
     ]
    }
   ],
   "source": [
    "linked_list = LinkedList()\n",
    "linked_list.push(1)\n",
    "linked_list.push(2)\n",
    "linked_list.push(3)\n",
    "linked_list.push(4)\n",
    "linked_list.push(5)\n",
    "\n",
    "def alternate_split(self):\n",
    "        head1 = self.head\n",
    "        head2 = self.head.next\n",
    "        if not any([head1, head2]):\n",
    "            return [-1, -1]\n",
    "\n",
    "        current = head1\n",
    "        while current.next:\n",
    "            temp = current.next\n",
    "            current.next = temp.next if temp.next else temp\n",
    "            current = temp\n",
    "            \n",
    "        return [head1, head2]\n",
    "    \n",
    "heads = alternate_split(linked_list)\n",
    "h1, h2 = heads[0], heads[1]\n",
    "head1, head2 = h1, h2\n",
    "while head1:\n",
    "    print(head1.ele)\n",
    "    head1 = head1.next\n",
    "print('---------------')\n",
    "while head2:\n",
    "    print(head2.ele)\n",
    "    head2 = head2.next"
   ]
  },
  {
   "cell_type": "markdown",
   "id": "e78f9e0b",
   "metadata": {},
   "source": [
    "### 05 merge()"
   ]
  },
  {
   "cell_type": "code",
   "execution_count": 49,
   "id": "cb1a451d",
   "metadata": {},
   "outputs": [
    {
     "name": "stdout",
     "output_type": "stream",
     "text": [
      "5\n",
      "50\n"
     ]
    }
   ],
   "source": [
    "linked_list1 = LinkedList()\n",
    "linked_list1.push(1)\n",
    "linked_list1.push(2)\n",
    "linked_list1.push(3)\n",
    "linked_list1.push(4)\n",
    "linked_list1.push(5)\n",
    "\n",
    "linked_list2 = LinkedList()\n",
    "linked_list2.push(10)\n",
    "linked_list2.push(20)\n",
    "linked_list2.push(30)\n",
    "linked_list2.push(40)\n",
    "linked_list2.push(50)\n",
    "\n",
    "def merge(self, head1: LinkedListNode, head2: LinkedListNode):\n",
    "        if not head1:\n",
    "            return head2\n",
    "        if not head2:\n",
    "            return head1\n",
    "\n",
    "        head = None\n",
    "        if head1.ele < head2.ele:\n",
    "            head = head1\n",
    "            head1 = head1.next\n",
    "        else:\n",
    "            head = head2\n",
    "            head2 = head2.next\n",
    "\n",
    "        while head1 and head2:\n",
    "            if head1.ele < head2.ele:\n",
    "                head.next = head1\n",
    "                head = head.next\n",
    "                head1 = head1.next\n",
    "            else:\n",
    "                head.next = head2\n",
    "                head = head.next\n",
    "                head2 = head2.next\n",
    "\n",
    "        while head1:\n",
    "            head.next = head1\n",
    "            head1 = head1.next\n",
    "\n",
    "        while head2:\n",
    "            head.next = head2\n",
    "            head2 = head2.next\n",
    "\n",
    "        return head\n",
    "    \n",
    "head =merge(LinkedList(), linked_list1.head, linked_list2.head)\n",
    "while head:\n",
    "    print(head.ele)\n",
    "    head = head.next"
   ]
  },
  {
   "cell_type": "markdown",
   "id": "7a043cef",
   "metadata": {},
   "source": [
    "### 06 sorted_0_1_2()"
   ]
  },
  {
   "cell_type": "code",
   "execution_count": 57,
   "id": "42edf069",
   "metadata": {},
   "outputs": [
    {
     "name": "stdout",
     "output_type": "stream",
     "text": [
      "0\n",
      "1\n",
      "1\n",
      "2\n",
      "2\n"
     ]
    }
   ],
   "source": [
    "linked_list = LinkedList()\n",
    "linked_list.push(1)\n",
    "linked_list.push(2)\n",
    "linked_list.push(0)\n",
    "linked_list.push(1)\n",
    "linked_list.push(2)\n",
    "\n",
    "def sorted_0_1_2(self):\n",
    "    count = [0] * 3\n",
    "    current = self.head\n",
    "    while current:\n",
    "        count[current.ele] += 1\n",
    "        current = current.next\n",
    "\n",
    "    current = self.head\n",
    "    for index, ele in enumerate(count):\n",
    "        while ele > 0:\n",
    "            ele -= 1\n",
    "            current.ele = index\n",
    "            current = current.next\n",
    "            \n",
    "sorted_0_1_2(linked_list)\n",
    "linked_list.print()"
   ]
  },
  {
   "cell_type": "markdown",
   "id": "1c420547",
   "metadata": {},
   "source": [
    "### 07 add_1()"
   ]
  },
  {
   "cell_type": "code",
   "execution_count": 78,
   "id": "91c17332",
   "metadata": {},
   "outputs": [
    {
     "name": "stdout",
     "output_type": "stream",
     "text": [
      "1   \n",
      "0   \n",
      "0   \n",
      "0   \n",
      "0   \n",
      "0   \n"
     ]
    }
   ],
   "source": [
    "linked_list = LinkedList()\n",
    "linked_list.push(9)\n",
    "linked_list.push(9)\n",
    "linked_list.push(9)\n",
    "linked_list.push(9)\n",
    "linked_list.push(9)\n",
    "\n",
    "def add_1(self):\n",
    "    carry = 1\n",
    "    self.head = reverse_inplace(self)\n",
    "\n",
    "    current = self.head\n",
    "    while current:\n",
    "        add = current.ele + carry\n",
    "        carry = 1 if add // 10 else 0\n",
    "        current.ele = 0 if add // 10 else add\n",
    "\n",
    "        temp = current\n",
    "        current = current.next\n",
    "\n",
    "    if carry:\n",
    "        temp.next = LinkedListNode(carry)\n",
    "    self.head = reverse_inplace(self)\n",
    "    \n",
    "    \n",
    "add_1(linked_list)\n",
    "linked_list.print(end=' ')"
   ]
  },
  {
   "cell_type": "markdown",
   "id": "595cf8b9",
   "metadata": {},
   "source": [
    "### 08 set_arbt_right_maxm()"
   ]
  },
  {
   "cell_type": "code",
   "execution_count": 94,
   "id": "60e588d3",
   "metadata": {},
   "outputs": [
    {
     "name": "stdout",
     "output_type": "stream",
     "text": [
      "1  \n",
      "2  \n",
      "30  \n",
      "10  \n",
      "5  \n",
      "-----------\n",
      "30\n",
      "30\n",
      "10\n",
      "5\n"
     ]
    }
   ],
   "source": [
    "linked_list = LinkedList()\n",
    "linked_list.push(1)\n",
    "linked_list.push(2)\n",
    "linked_list.push(30)\n",
    "linked_list.push(10)\n",
    "linked_list.push(5)\n",
    "\n",
    "def set_arbt_right_maxm(self):\n",
    "        self.head = reverse_inplace(self)\n",
    "        current = self.head\n",
    "        current.arbt = None\n",
    "\n",
    "        maxm_temp = current\n",
    "        current = current.next\n",
    "        maxm = maxm_temp.ele\n",
    "        \n",
    "        while current:\n",
    "            current.arbt = maxm_temp\n",
    "            if maxm < current.ele:\n",
    "                maxm = current.ele\n",
    "                maxm_temp = current\n",
    "                \n",
    "            current = current.next\n",
    "\n",
    "        reverse_inplace(self)\n",
    "\n",
    "set_arbt_right_maxm(linked_list)\n",
    "linked_list.print()\n",
    "print('-----------')\n",
    "linked_list.print_by_arbt()"
   ]
  },
  {
   "cell_type": "markdown",
   "id": "85eb55bb",
   "metadata": {},
   "source": [
    "### 09 palindrome()"
   ]
  },
  {
   "cell_type": "code",
   "execution_count": 85,
   "id": "99ece13c",
   "metadata": {},
   "outputs": [],
   "source": [
    " # def palindrome(self):\n",
    "    #     # find middle + reverse half\n",
    "    #     # OR iterate first and last pointer until middle pointer"
   ]
  },
  {
   "cell_type": "markdown",
   "id": "a36fec6b",
   "metadata": {},
   "source": [
    "## 03 Hashing"
   ]
  },
  {
   "cell_type": "markdown",
   "id": "e75fe6e6",
   "metadata": {},
   "source": [
    "### 01 check_duplicate_within_k_distance"
   ]
  },
  {
   "cell_type": "code",
   "execution_count": 58,
   "id": "f29a5518",
   "metadata": {},
   "outputs": [
    {
     "name": "stdout",
     "output_type": "stream",
     "text": [
      "Duplicate in k = 2 distance: 8\n",
      "Duplicate in k = 2 distance: 9\n",
      "None\n"
     ]
    }
   ],
   "source": [
    "def check_duplicates_k(nums, k):\n",
    "    s = set()\n",
    "    for index, num in enumerate(nums):\n",
    "        if num in s:\n",
    "            print(f'Duplicate in k = {k} distance: {num}')\n",
    "            \n",
    "        if index >= k:\n",
    "            s.discard(nums[index - k])\n",
    "            \n",
    "        s.add(num)\n",
    "    s.clear()\n",
    "    \n",
    "nums = [2, 3, 5, 6, 8, 5, 8, 9, 9]\n",
    "print(check_duplicates_k(nums, 2))"
   ]
  },
  {
   "cell_type": "markdown",
   "id": "0c022af7",
   "metadata": {},
   "source": [
    "### 02 distinct_k_window"
   ]
  },
  {
   "cell_type": "code",
   "execution_count": 61,
   "id": "ac628dbb",
   "metadata": {},
   "outputs": [
    {
     "name": "stdout",
     "output_type": "stream",
     "text": [
      "19\n"
     ]
    }
   ],
   "source": [
    "def distinct_k_window(nums, k):\n",
    "    s = set()\n",
    "    result = 0\n",
    "\n",
    "    for index, ele in enumerate(nums[:k]):\n",
    "        if ele in s:\n",
    "            result -= 1\n",
    "            continue\n",
    "        s.add(ele)\n",
    "        result += 1\n",
    "        \n",
    "    for index in range(k, len(nums)):\n",
    "        result += k\n",
    "        s.discard(nums[index-k])\n",
    "        if nums[index] in s:\n",
    "            result -= 1\n",
    "        s.add(nums[index])\n",
    "        \n",
    "    return result\n",
    "\n",
    "\n",
    "nums = [2, 3, 5, 6, 8, 5, 8, 9, 9]\n",
    "print(distinct_k_window(nums, 3))"
   ]
  },
  {
   "cell_type": "markdown",
   "id": "6504fbdc",
   "metadata": {},
   "source": [
    "### 03 disjoint_sets"
   ]
  },
  {
   "cell_type": "code",
   "execution_count": 1,
   "id": "e87bfc3d",
   "metadata": {},
   "outputs": [
    {
     "name": "stdout",
     "output_type": "stream",
     "text": [
      "False\n",
      "True\n"
     ]
    }
   ],
   "source": [
    "def disjoint_set(nums1, nums2):\n",
    "    s1 = set()\n",
    "    \n",
    "    for num in nums1:\n",
    "        s1.add(num)\n",
    "    \n",
    "    for num in nums2:\n",
    "        if num in s1:\n",
    "            return False\n",
    "    \n",
    "    s1.clear()\n",
    "    return True\n",
    "\n",
    "nums = [2, 3, 5, 6, 8, 5, 8, 9, 9]\n",
    "print(disjoint_set(nums, [20, 80, 9]))\n",
    "print(disjoint_set(nums, [20, 80, 90]))"
   ]
  },
  {
   "cell_type": "markdown",
   "id": "9db010eb",
   "metadata": {},
   "source": [
    "### 04 group_by_first_occurrence"
   ]
  },
  {
   "cell_type": "code",
   "execution_count": 68,
   "id": "6fe9e2e5",
   "metadata": {},
   "outputs": [
    {
     "name": "stdout",
     "output_type": "stream",
     "text": [
      "2\n",
      "6\n",
      "6\n",
      "9\n",
      "9\n",
      "5\n",
      "5\n",
      "3\n",
      "8\n",
      "8\n",
      "None\n"
     ]
    }
   ],
   "source": [
    "def group_by_first_occ(nums):\n",
    "    h = {}\n",
    "    for num in nums:\n",
    "        if num in h:\n",
    "            h[num] += 1\n",
    "        else:\n",
    "            h[num] = 1\n",
    "  \n",
    "    for index, num in enumerate(nums):\n",
    "        try:\n",
    "            counter = h[num]\n",
    "            while counter > 0:\n",
    "                print(num)\n",
    "                counter -= 1\n",
    "            del h[num]\n",
    "        except KeyError as key_error:\n",
    "            continue\n",
    "\n",
    "\n",
    "\n",
    "nums = [2, 6, 9, 5, 3, 6, 8, 5, 8, 9]\n",
    "print(group_by_first_occ(nums))"
   ]
  },
  {
   "cell_type": "markdown",
   "id": "eeb0e817",
   "metadata": {},
   "source": [
    "### 05 find the element missing given range [x y]"
   ]
  },
  {
   "cell_type": "code",
   "execution_count": 2,
   "id": "195d28ef",
   "metadata": {},
   "outputs": [
    {
     "name": "stdout",
     "output_type": "stream",
     "text": [
      "[49, 50, 52]\n"
     ]
    }
   ],
   "source": [
    "def find_missing_given_range(arr: list, x: int, y: int):\n",
    "    s = set()\n",
    "    results = []\n",
    "    \n",
    "    for num in arr:\n",
    "            s.add(num)\n",
    "    \n",
    "    for i in range(x, y + 1):\n",
    "        if i in s:\n",
    "            continue\n",
    "        results.append(i)\n",
    "    \n",
    "    s.clear()\n",
    "    return results\n",
    "\n",
    "arr = [48, 51, 53, 55, 57, 59, 61]\n",
    "print(find_missing_given_range(arr, 48, 53))"
   ]
  },
  {
   "cell_type": "markdown",
   "id": "199e0ebe",
   "metadata": {},
   "source": [
    "## 04 Stack"
   ]
  },
  {
   "cell_type": "markdown",
   "id": "9cbcb937",
   "metadata": {},
   "source": [
    "### 01 merge_overlapping_intervals"
   ]
  },
  {
   "cell_type": "code",
   "execution_count": 25,
   "id": "efe08b09",
   "metadata": {},
   "outputs": [
    {
     "name": "stdout",
     "output_type": "stream",
     "text": [
      "[(1, 199), (200, 201)]\n"
     ]
    }
   ],
   "source": [
    "intervals = [\n",
    "    (3, 4),\n",
    "    (7, 9),\n",
    "    (1, 5),\n",
    "    (2, 9),\n",
    "    (4, 5),\n",
    "    (33, 55),\n",
    "    (22, 50),\n",
    "    (2, 33), (77, 99), (200, 201)]\n",
    "\n",
    "def merge_overlap(intervals, new=[6, 199]):\n",
    "    intervals.append(new)\n",
    "    intervals = sorted(intervals, key=lambda x: x[0], reverse=False)\n",
    "    \n",
    "    results = []\n",
    "    results.append(intervals[0])\n",
    "    \n",
    "    for interval in intervals[1:]:\n",
    "        last_interval = results[-1]\n",
    "        if last_interval[1] >= interval[0]:\n",
    "            start = min(last_interval[0], interval[0])\n",
    "            end = max(last_interval[1], interval[1])\n",
    "            \n",
    "            results.pop()\n",
    "            results.append((start, end))\n",
    "        else:\n",
    "            results.append(interval)\n",
    "            \n",
    "    return results\n",
    "\n",
    "\n",
    "print(merge_overlap(intervals))"
   ]
  },
  {
   "cell_type": "markdown",
   "id": "3bd3bd7e",
   "metadata": {},
   "source": [
    "### 02 closest_greater_right"
   ]
  },
  {
   "cell_type": "code",
   "execution_count": 29,
   "id": "157a8455",
   "metadata": {},
   "outputs": [
    {
     "name": "stdout",
     "output_type": "stream",
     "text": [
      "[9, 4, 9, -inf, -inf, -inf]\n"
     ]
    }
   ],
   "source": [
    "def closest_greater_right(nums: list) -> list:\n",
    "    stack = []\n",
    "    stack.append(0)\n",
    "    results = [float('-inf')] * len(nums)\n",
    "\n",
    "    for index, element in enumerate(nums[1:], 1):\n",
    "        while bool(stack) and element > nums[stack[-1]]:\n",
    "            results[stack[-1]] = element\n",
    "            stack.pop()\n",
    "        stack.append(index)\n",
    "\n",
    "    return results\n",
    "\n",
    "# * TC = O(n)\n",
    "print(closest_greater_right([6, 3, 4, 9, 2, 1]))"
   ]
  },
  {
   "cell_type": "markdown",
   "id": "658ce1ed",
   "metadata": {},
   "source": [
    "### 03 stock_span_problem"
   ]
  },
  {
   "cell_type": "code",
   "execution_count": 102,
   "id": "04caba8e",
   "metadata": {},
   "outputs": [
    {
     "name": "stdout",
     "output_type": "stream",
     "text": [
      "[0, 0, 1, 3, 0, 0]\n"
     ]
    }
   ],
   "source": [
    "def evaluate_span(nums: list):\n",
    "    stack = []\n",
    "    stack.append(0) \n",
    "    results = [0] * len(nums)\n",
    "\n",
    "    for index, element in enumerate(nums[1:], 1):\n",
    "        span = 0\n",
    "        \n",
    "        while bool(stack) and element > nums[stack[-1]]:\n",
    "            span += 1\n",
    "            stack.pop()\n",
    "            \n",
    "        results[index] = span if bool(stack) else index\n",
    "        stack.append(index)\n",
    "    return results\n",
    "\n",
    "print(evaluate_span([6, 3, 4, 9, 2, 1]))\n",
    "# * TC = O(n), SC = O(n)"
   ]
  },
  {
   "cell_type": "markdown",
   "id": "867af772",
   "metadata": {},
   "source": [
    "### 04 reverse_using_stack"
   ]
  },
  {
   "cell_type": "code",
   "execution_count": 53,
   "id": "10ad7921",
   "metadata": {},
   "outputs": [
    {
     "name": "stdout",
     "output_type": "stream",
     "text": [
      "alawlapohB niddunahruB\n"
     ]
    }
   ],
   "source": [
    "def reverse_string_stack(string: str):\n",
    "    stack, results = [], []\n",
    "    for char in string:\n",
    "        stack.append(char)\n",
    "\n",
    "    while bool(stack):\n",
    "        results.append(stack.pop())\n",
    "        \n",
    "    return ''.join(results)\n",
    "\n",
    "print(reverse_string_stack('Burhanuddin Bhopalwala'))"
   ]
  },
  {
   "cell_type": "markdown",
   "id": "72b37bff",
   "metadata": {},
   "source": [
    "### 05 get_minm_in_O(1)"
   ]
  },
  {
   "cell_type": "code",
   "execution_count": 55,
   "id": "26e75eb2",
   "metadata": {},
   "outputs": [
    {
     "name": "stdout",
     "output_type": "stream",
     "text": [
      "3\n",
      "3\n",
      "0\n"
     ]
    }
   ],
   "source": [
    "class Stack(object):\n",
    "    def __init__(self):\n",
    "        self.top = -1\n",
    "        self.store = []\n",
    "        self.minm = float('inf')\n",
    "\n",
    "    def push(self, ele: int):\n",
    "        if ele < self.minm:\n",
    "            self.store.append(ele - self.minm)\n",
    "            self.minm = ele\n",
    "        else:\n",
    "            self.store.append(ele)\n",
    "        self.top += 1\n",
    "\n",
    "    def pop(self):\n",
    "        if self.top == -1:\n",
    "            return self.minm\n",
    "        \n",
    "        self.top -= 1\n",
    "        temp = self.store.pop()\n",
    "        if self.minm > temp:\n",
    "            temp = self.minm\n",
    "            self.minm = self.minm - temp\n",
    "        return temp\n",
    "\n",
    "    def find_minimum(self):\n",
    "        # * O(1)\n",
    "        return self.minm\n",
    "\n",
    "\n",
    "s = Stack()\n",
    "\n",
    "s.push(4)\n",
    "s.push(3)\n",
    "print(s.find_minimum())  # * 3\n",
    "\n",
    "print(s.pop())  # * 3\n",
    "print(s.find_minimum())  # * 4"
   ]
  },
  {
   "cell_type": "markdown",
   "id": "dfc337bf",
   "metadata": {},
   "source": [
    "### 06 Minimum brackets reversal to make an expression balanced"
   ]
  },
  {
   "cell_type": "code",
   "execution_count": 9,
   "id": "059d846c",
   "metadata": {},
   "outputs": [
    {
     "name": "stdout",
     "output_type": "stream",
     "text": [
      "2\n"
     ]
    }
   ],
   "source": [
    "def find_minm_reversals(expr: str):\n",
    "    stack = []\n",
    "    \n",
    "    for paren in expr:\n",
    "        if all([paren == '}', bool(stack) and stack[-1] == '{']): \n",
    "            stack.pop() \n",
    "        else: \n",
    "            stack.append(paren)\n",
    "\n",
    "    m, n = 0, 0\n",
    "    while bool(stack):\n",
    "        if stack.pop() == '{':\n",
    "            m += 1\n",
    "        else:\n",
    "            n += 1\n",
    "\n",
    "    return m // 2 + n // 2\n",
    "\n",
    "\n",
    "expr = '{}}}{{{}'\n",
    "print(find_minm_reversals(expr))\n",
    "# * TC = O(n), O(n)"
   ]
  },
  {
   "cell_type": "markdown",
   "id": "391321db",
   "metadata": {},
   "source": [
    "### 07 Celebrity problem"
   ]
  },
  {
   "cell_type": "markdown",
   "id": "3f43291d",
   "metadata": {},
   "source": [
    "#### Person with 2 is celebrity + celebrity does not know any guest"
   ]
  },
  {
   "cell_type": "code",
   "execution_count": 128,
   "id": "d6c93323",
   "metadata": {},
   "outputs": [
    {
     "name": "stdout",
     "output_type": "stream",
     "text": [
      "rst\n"
     ]
    }
   ],
   "source": [
    "# * Party details\n",
    "GUESTS = ['abc', 'efg', 'rst', 'xyz']\n",
    "POPULARITY_MATRIX = [[0, 0, 1, 0],\n",
    "                     [0, 0, 1, 0],\n",
    "                     [0, 0, 0, 0],\n",
    "                     [0, 0, 1, 0]]\n",
    "\n",
    "\n",
    "def x_knows_y(x, y):\n",
    "    return POPULARITY_MATRIX[x][y]\n",
    "\n",
    "\n",
    "def guests_map(guests_list: list):\n",
    "    guests_map = {}\n",
    "    for index, guest in enumerate(guests_list):\n",
    "        guests_map[guest] = index\n",
    "\n",
    "    return guests_map\n",
    "\n",
    "\n",
    "def find_celebrity(guests_list: list, pm: list(list)):\n",
    "    head_count = len(guests_list)\n",
    "    gm = guests_map(guests_list)\n",
    "    stack = guests_list.copy()  # * In python its always pass by,assign by reference\n",
    "\n",
    "    celebrity = None\n",
    "    while bool(stack):\n",
    "        guest_1 = stack.pop()\n",
    "        guest_2 = stack.pop()\n",
    "\n",
    "        g12 = x_knows_y(gm[guest_1], gm[guest_2])\n",
    "        g21 = x_knows_y(gm[guest_2], gm[guest_1])\n",
    "\n",
    "        if all([not g12, not g21]):\n",
    "            continue\n",
    "        elif g12:\n",
    "            celebrity = guest_2\n",
    "        elif g21:\n",
    "            celebrity = guest_1\n",
    "\n",
    "    if not celebrity:\n",
    "        return celebrity\n",
    "\n",
    "    # Confirmation\n",
    "    count = 0\n",
    "    for guest in guests_list:\n",
    "        know_celeb = x_knows_y(gm[guest], gm[celebrity])\n",
    "        if know_celeb:\n",
    "            count += 1\n",
    "\n",
    "    if count == head_count - 1:\n",
    "        return celebrity\n",
    "\n",
    "    return None\n",
    "\n",
    "\n",
    "print(find_celebrity(GUESTS, POPULARITY_MATRIX))\n",
    "# * TC = O(n), O(n)"
   ]
  },
  {
   "cell_type": "markdown",
   "id": "67ddeca3",
   "metadata": {},
   "source": [
    "## 05 Heap"
   ]
  },
  {
   "cell_type": "markdown",
   "id": "7f576dae",
   "metadata": {},
   "source": [
    "### 01 find_kth_largest using custom heap"
   ]
  },
  {
   "cell_type": "code",
   "execution_count": 15,
   "id": "3a33e687",
   "metadata": {},
   "outputs": [],
   "source": [
    "class Heap(object):\n",
    "    def __init__(self, nums: list):\n",
    "        self.store = nums\n",
    "        self.build_min_heap()\n",
    "\n",
    "    def min_heapify(self, nums: list, size: int, index):\n",
    "        left: int = 2*index + 1\n",
    "        right: int = 2*index + 2\n",
    "        smallest: int = index\n",
    "\n",
    "        if size > left and self.store[smallest] > self.store[left]:\n",
    "            smallest = left\n",
    "\n",
    "        if size > right and self.store[smallest] > self.store[right]:\n",
    "            smallest = right\n",
    "\n",
    "        if smallest != index:\n",
    "            temp = self.store[index]\n",
    "            self.store[index] = self.store[smallest]\n",
    "            self.store[smallest] = temp\n",
    "            self.min_heapify(self.store, size, smallest)\n",
    "\n",
    "    def build_min_heap(self):\n",
    "        for index in range(0, len(self.store) // 2):\n",
    "            self.min_heapify(self.store, len(self.store), index)\n",
    "\n",
    "    def pop(self):\n",
    "        pop = self.store.pop(0)\n",
    "        self.min_heapify(self.store, len(self.store), 0)\n",
    "        return pop"
   ]
  },
  {
   "cell_type": "code",
   "execution_count": 18,
   "id": "4f9cbecd",
   "metadata": {
    "collapsed": true
   },
   "outputs": [
    {
     "name": "stdout",
     "output_type": "stream",
     "text": [
      "7\n"
     ]
    }
   ],
   "source": [
    "import heapq\n",
    "\n",
    "def find_kth_largest(self, k: int):\n",
    "        for _ in range(len(self.store) - k):\n",
    "            self.store.pop(0)\n",
    "            self.min_heapify(self.store, len(self.store), 0)\n",
    "        pop = self.store.pop(0)\n",
    "        self.min_heapify(self.store, len(self.store), 0)\n",
    "        return pop\n",
    "\n",
    "\n",
    "heap = Heap([10, 20, 3, 4, 5, 6, 7])\n",
    "print(find_kth_largest(heap, 3))  # * 7"
   ]
  },
  {
   "cell_type": "markdown",
   "id": "0ce2f149",
   "metadata": {},
   "source": [
    "### 02 find_kth_largest using builtin heap"
   ]
  },
  {
   "cell_type": "code",
   "execution_count": 20,
   "id": "8aad1fd0",
   "metadata": {},
   "outputs": [
    {
     "name": "stdout",
     "output_type": "stream",
     "text": [
      "7\n"
     ]
    }
   ],
   "source": [
    "class Solution(object):\n",
    "    @staticmethod\n",
    "    def findKthLargest(nums, k):\n",
    "        \"\"\"\n",
    "        :type nums: List[int]\n",
    "        :type k: int\n",
    "        :rtype: int\n",
    "        \"\"\"\n",
    "        heapq.heapify(nums)\n",
    "        for i in range(len(nums) - k):\n",
    "            heapq.heappop(nums)\n",
    "        return heapq.heappop(nums)\n",
    "\n",
    "\n",
    "print(Solution.findKthLargest([10, 20, 3, 4, 5, 6, 7], 3))"
   ]
  },
  {
   "cell_type": "code",
   "execution_count": 21,
   "id": "5744db2e",
   "metadata": {},
   "outputs": [],
   "source": [
    "# * Common ones:\n",
    "# Max heap to Min Heap: O(nlogn) -> O(n)\n",
    "# BST to Max Heap: Reverse Inorder Traversal: O(n)\n",
    "################################################################################\n"
   ]
  },
  {
   "cell_type": "markdown",
   "id": "5513a804",
   "metadata": {},
   "source": [
    "## 07 String\n",
    "\n",
    "Strings are immutable in python so inplace transformations are not possible. All the below example are out of place modifications."
   ]
  },
  {
   "cell_type": "code",
   "execution_count": 17,
   "id": "ee3e0a55",
   "metadata": {},
   "outputs": [],
   "source": [
    "MAX_ASCII = 256"
   ]
  },
  {
   "cell_type": "markdown",
   "id": "7584b3d8",
   "metadata": {},
   "source": [
    "### 01 maxm_occurence of a character in a string"
   ]
  },
  {
   "cell_type": "code",
   "execution_count": 38,
   "id": "50eb32c3",
   "metadata": {},
   "outputs": [
    {
     "name": "stdout",
     "output_type": "stream",
     "text": [
      "a\n"
     ]
    }
   ],
   "source": [
    "string = 'Burhanuddin Bhopalwala'\n",
    "\n",
    "def maxm_occurence(string: str):\n",
    "    h = [0] * MAX_ASCII\n",
    "    for char in string:\n",
    "        h[ord(char)] += 1\n",
    "\n",
    "    return chr(h.index(max(h)))\n",
    "\n",
    "print(maxm_occurence(string))"
   ]
  },
  {
   "cell_type": "markdown",
   "id": "5cbd79dc",
   "metadata": {},
   "source": [
    "### 02 De-dup the string"
   ]
  },
  {
   "cell_type": "code",
   "execution_count": 39,
   "id": "882cd95b",
   "metadata": {},
   "outputs": [
    {
     "name": "stdout",
     "output_type": "stream",
     "text": [
      "Burhandi oplw\n"
     ]
    }
   ],
   "source": [
    "string = 'Burhanuddin Bhopalwala'\n",
    "\n",
    "def de_dup(string: str):\n",
    "    result = []\n",
    "    \n",
    "    h = [0] * MAX_ASCII\n",
    "    for char in string:\n",
    "        if h[ord(char)] == 0:\n",
    "            result.append(char)\n",
    "            h[ord(char)] = 1\n",
    "            \n",
    "    return ''.join(result)\n",
    "\n",
    "print(de_dup(string))"
   ]
  },
  {
   "cell_type": "markdown",
   "id": "089ef7a0",
   "metadata": {},
   "source": [
    "### 03 Check Rotation"
   ]
  },
  {
   "cell_type": "code",
   "execution_count": 40,
   "id": "9070d279",
   "metadata": {},
   "outputs": [
    {
     "name": "stdout",
     "output_type": "stream",
     "text": [
      "5\n"
     ]
    }
   ],
   "source": [
    "def check_rotation(str1: str, str2: str):\n",
    "    # return sorted(word1) == sorted(word2)\n",
    "    concat = str1 + str2\n",
    "    \n",
    "    return concat.find(str2)  # * index, -1\n",
    "\n",
    "print(check_rotation('madam', 'adamm'))"
   ]
  },
  {
   "cell_type": "markdown",
   "id": "be1f7261",
   "metadata": {},
   "source": [
    "### 04 is_palindrome"
   ]
  },
  {
   "cell_type": "code",
   "execution_count": 45,
   "id": "fe594ad2",
   "metadata": {},
   "outputs": [
    {
     "name": "stdout",
     "output_type": "stream",
     "text": [
      "True\n"
     ]
    }
   ],
   "source": [
    "def is_palindrome(string: str):\n",
    "    # return string == reverse_string_stack(string)\n",
    "    return list(string) == list(reversed(string))\n",
    "\n",
    "\n",
    "print(is_palindrome('madam'))"
   ]
  },
  {
   "cell_type": "markdown",
   "id": "fced55a6",
   "metadata": {},
   "source": [
    "### 05 first_non_repeating_char"
   ]
  },
  {
   "cell_type": "code",
   "execution_count": 47,
   "id": "b978da53",
   "metadata": {},
   "outputs": [
    {
     "name": "stdout",
     "output_type": "stream",
     "text": [
      "B\n"
     ]
    }
   ],
   "source": [
    "def first_non_repeating_char(string: str):\n",
    "    store = {}\n",
    "    for index, char in enumerate(word):\n",
    "        if char in store:\n",
    "            store[char][1] += 1\n",
    "        else:\n",
    "            store[char] = [index, 1]\n",
    "\n",
    "    first_minm = -1 * len(word)\n",
    "    for key, value in store.items():\n",
    "        if first_minm > int(value[0]) and int(value[1]) == 1:\n",
    "            first_minm = key\n",
    "            \n",
    "    return word[first_minm]\n",
    "\n",
    "\n",
    "def first_non_repeating_char_2_iter(string: str):\n",
    "    h = [0] * MAX_ASCII\n",
    "    \n",
    "    for char in string:\n",
    "        h[ord(char)] += 1\n",
    "        \n",
    "    for char in string:\n",
    "        if h[ord(char)] == 1:\n",
    "            return char\n",
    "    \n",
    "    return None\n",
    "\n",
    "print(first_non_repeating_char_2_iter('Burhanuddin'))"
   ]
  },
  {
   "cell_type": "code",
   "execution_count": 29,
   "id": "fca98555",
   "metadata": {},
   "outputs": [],
   "source": [
    "# * Pending: Maxm and Minm with minm no of comparisons"
   ]
  },
  {
   "cell_type": "markdown",
   "id": "21d4f1bb",
   "metadata": {},
   "source": [
    "## 08 Tree"
   ]
  },
  {
   "cell_type": "code",
   "execution_count": 36,
   "id": "d12128e4",
   "metadata": {},
   "outputs": [],
   "source": [
    "class TreeNode(object):\n",
    "    def __init__(self, x):\n",
    "        self.val = x\n",
    "        self.left = None\n",
    "        self.right = None"
   ]
  },
  {
   "cell_type": "code",
   "execution_count": 37,
   "id": "f57a1f4d",
   "metadata": {},
   "outputs": [],
   "source": [
    "class Tree(object):\n",
    "    def __init__(self):\n",
    "        self.root = None"
   ]
  },
  {
   "cell_type": "markdown",
   "id": "6d0e6073",
   "metadata": {},
   "source": [
    "### 01 height of the tree  / max_depth"
   ]
  },
  {
   "cell_type": "code",
   "execution_count": 42,
   "id": "c8795d2a",
   "metadata": {},
   "outputs": [
    {
     "name": "stdout",
     "output_type": "stream",
     "text": [
      "1\n"
     ]
    }
   ],
   "source": [
    "tree = Tree()\n",
    "tree.root = TreeNode(1)\n",
    "tree.root.left = TreeNode(2)\n",
    "tree.root.right = TreeNode(3)\n",
    "\n",
    "def get_height(root: TreeNode):\n",
    "    if root:\n",
    "        left_height = get_height(root.left)\n",
    "        right_height = get_height(root.right)\n",
    "        return 1 + max(left_height, right_height)\n",
    "    \n",
    "    return -1\n",
    "print(get_height(tree.root))\n",
    "# * TC = O(n), SC = O(h)"
   ]
  },
  {
   "cell_type": "markdown",
   "id": "a82ec344",
   "metadata": {},
   "source": [
    "### 02 size of the tree"
   ]
  },
  {
   "cell_type": "code",
   "execution_count": 11,
   "id": "b63ceb4c",
   "metadata": {},
   "outputs": [
    {
     "name": "stdout",
     "output_type": "stream",
     "text": [
      "3\n"
     ]
    }
   ],
   "source": [
    "tree = Tree()\n",
    "tree.root = TreeNode(1)\n",
    "tree.root.left = TreeNode(2)\n",
    "tree.root.right = TreeNode(3)\n",
    "\n",
    "def get_size(root: TreeNode):\n",
    "    return 1 + get_size(root.left) + get_size(root.right) if root else 0\n",
    "\n",
    "print(get_size(tree.root))\n",
    "# * TC = O(n), SC = O(h)"
   ]
  },
  {
   "cell_type": "markdown",
   "id": "c40dae1d",
   "metadata": {},
   "source": [
    "### 03 traversals of the tree"
   ]
  },
  {
   "cell_type": "code",
   "execution_count": 19,
   "id": "81ab42cb",
   "metadata": {},
   "outputs": [
    {
     "name": "stdout",
     "output_type": "stream",
     "text": [
      "1\n",
      "2\n",
      "3\n",
      "-------------\n",
      "2\n",
      "1\n",
      "3\n",
      "-------------\n",
      "2\n",
      "3\n",
      "1\n"
     ]
    }
   ],
   "source": [
    "tree = Tree()\n",
    "tree.root = TreeNode(1)\n",
    "tree.root.left = TreeNode(2)\n",
    "tree.root.right = TreeNode(3)\n",
    "\n",
    "def preorder(root: TreeNode):\n",
    "    if root:\n",
    "        print(root.val)\n",
    "        preorder(root.left) \n",
    "        preorder(root.right)\n",
    "        \n",
    "def inorder(root: TreeNode):\n",
    "    if root:\n",
    "        inorder(root.left) \n",
    "        print(root.val)\n",
    "        inorder(root.right)\n",
    "        \n",
    "def postorder(root: TreeNode):\n",
    "    if root:\n",
    "        postorder(root.left) \n",
    "        postorder(root.right)\n",
    "        print(root.val)\n",
    "        \n",
    "preorder(tree.root)\n",
    "print('-------------')\n",
    "inorder(tree.root)\n",
    "print('-------------')\n",
    "postorder(tree.root)\n",
    "# * TC = O(n), SC = O(h)"
   ]
  },
  {
   "cell_type": "markdown",
   "id": "3467b22f",
   "metadata": {},
   "source": [
    "### 04 level order traversal"
   ]
  },
  {
   "cell_type": "code",
   "execution_count": 33,
   "id": "17834f30",
   "metadata": {},
   "outputs": [
    {
     "name": "stdout",
     "output_type": "stream",
     "text": [
      "1\n",
      "2\n",
      "3\n"
     ]
    }
   ],
   "source": [
    "FRONT = 0\n",
    "\n",
    "tree = Tree()\n",
    "tree.root = TreeNode(1)\n",
    "tree.root.left = TreeNode(2)\n",
    "tree.root.right = TreeNode(3)\n",
    "\n",
    "def level_order_traversal(root: TreeNode):\n",
    "    if not root:\n",
    "        return\n",
    "    \n",
    "    queue = []\n",
    "    queue.append(root)\n",
    "    \n",
    "    while bool(queue):\n",
    "        node = queue.pop(FRONT) \n",
    "        print(node.val)\n",
    "        \n",
    "        if node.left:\n",
    "                queue.append(node.left)\n",
    "        if node.right:\n",
    "                queue.append(node.right)\n",
    "                \n",
    "level_order_traversal(tree.root)\n",
    "# * TC = O(n), SC = O(n/2)"
   ]
  },
  {
   "cell_type": "markdown",
   "id": "ae4a45bf",
   "metadata": {},
   "source": [
    "### 05 invert tree / mirror tree"
   ]
  },
  {
   "cell_type": "code",
   "execution_count": 36,
   "id": "ba65077c",
   "metadata": {},
   "outputs": [
    {
     "name": "stdout",
     "output_type": "stream",
     "text": [
      "1\n",
      "3\n",
      "2\n"
     ]
    }
   ],
   "source": [
    "tree = Tree()\n",
    "tree.root = TreeNode(1)\n",
    "tree.root.left = TreeNode(2)\n",
    "tree.root.right = TreeNode(3)\n",
    "\n",
    "def invert_tree(root: TreeNode):\n",
    "    if root:\n",
    "        temp_node = root.left\n",
    "        root.left = invert_tree(root.right)\n",
    "        root.right = invert_tree(temp_node)\n",
    "        \n",
    "    return root\n",
    "\n",
    "invert_tree(tree.root)\n",
    "level_order_traversal(tree.root)\n",
    "# * TC = O(n), SC = O(h)"
   ]
  },
  {
   "cell_type": "markdown",
   "id": "1b0ac25d",
   "metadata": {},
   "source": [
    "### 06 identical trees"
   ]
  },
  {
   "cell_type": "code",
   "execution_count": 39,
   "id": "3db47e54",
   "metadata": {},
   "outputs": [
    {
     "name": "stdout",
     "output_type": "stream",
     "text": [
      "True\n",
      "False\n"
     ]
    }
   ],
   "source": [
    "tree1 = Tree()\n",
    "tree1.root = TreeNode(1)\n",
    "tree1.root.left = TreeNode(2)\n",
    "tree1.root.right = TreeNode(3)\n",
    "\n",
    "tree2 = Tree()\n",
    "tree2.root = TreeNode(1)\n",
    "tree2.root.left = TreeNode(2)\n",
    "tree2.root.right = TreeNode(3)\n",
    "\n",
    "\n",
    "tree3 = Tree()\n",
    "tree3.root = TreeNode(3)\n",
    "tree3.root.left = TreeNode(2)\n",
    "tree3.root.right = TreeNode(1)\n",
    "\n",
    "\n",
    "def is_identical(root1: TreeNode, root2: TreeNode):\n",
    "    if root1 == root2:\n",
    "        return True\n",
    "    \n",
    "    if all([root1, root2]):\n",
    "        return all(\n",
    "            [root1.val == root2.val, is_identical(root1.left, root2.left),\n",
    "             is_identical(root1.right, root2.right)])\n",
    "    \n",
    "    return False\n",
    "\n",
    "print(is_identical(tree1.root, tree2.root))\n",
    "print(is_identical(tree2.root, tree3.root))\n",
    "# * TC = O(n), SC = O(h)"
   ]
  },
  {
   "cell_type": "markdown",
   "id": "c91c56ee",
   "metadata": {},
   "source": [
    "### 07 left view of a binary tree"
   ]
  },
  {
   "cell_type": "code",
   "execution_count": 4,
   "id": "254400b2",
   "metadata": {},
   "outputs": [
    {
     "name": "stdout",
     "output_type": "stream",
     "text": [
      "1\n",
      "2\n"
     ]
    }
   ],
   "source": [
    "tree = Tree()\n",
    "tree.root = TreeNode(1)\n",
    "tree.root.left = TreeNode(2)\n",
    "tree.root.right = TreeNode(3)\n",
    "\n",
    "global max_level; max_level = 0\n",
    "def left_view(root: TreeNode, level: int = 1):\n",
    "    global max_level\n",
    "\n",
    "    if root:\n",
    "        if max_level < level:\n",
    "            print(root.val)\n",
    "            max_level = level\n",
    "            \n",
    "        left_view(root.left, level + 1)\n",
    "        left_view(root.right, level + 1)\n",
    "        \n",
    "left_view(tree.root)\n",
    "# * TC = O(n), SC = O(h)"
   ]
  },
  {
   "cell_type": "markdown",
   "id": "9316de68",
   "metadata": {},
   "source": [
    "### right view of a binary tree"
   ]
  },
  {
   "cell_type": "code",
   "execution_count": 96,
   "id": "ee3fa259",
   "metadata": {},
   "outputs": [
    {
     "name": "stdout",
     "output_type": "stream",
     "text": [
      "1\n",
      "3\n"
     ]
    }
   ],
   "source": [
    "tree = Tree()\n",
    "tree.root = TreeNode(1)\n",
    "tree.root.left = TreeNode(2)\n",
    "tree.root.right = TreeNode(3)\n",
    "\n",
    "global max_level; max_level = 0\n",
    "def left_view(root: TreeNode, level: int = 1):\n",
    "    global max_level\n",
    "\n",
    "    if root:\n",
    "        if max_level < level:\n",
    "            print(root.val)\n",
    "            max_level = level\n",
    "            \n",
    "        left_view(root.right, level + 1)\n",
    "        left_view(root.left, level + 1)\n",
    "        \n",
    "left_view(tree.root)\n",
    "# * TC = O(n), SC = O(h)"
   ]
  },
  {
   "cell_type": "markdown",
   "id": "cb4adb08",
   "metadata": {},
   "source": [
    "### 08 path sum"
   ]
  },
  {
   "cell_type": "code",
   "execution_count": 44,
   "id": "5f08fc5b",
   "metadata": {},
   "outputs": [
    {
     "name": "stdout",
     "output_type": "stream",
     "text": [
      "True\n"
     ]
    }
   ],
   "source": [
    "tree = Tree()\n",
    "tree.root = TreeNode(1)\n",
    "tree.root.left = TreeNode(2)\n",
    "tree.root.right = TreeNode(3)\n",
    "tree.root.left.left = TreeNode(4)\n",
    "tree.root.left.right = TreeNode(5)\n",
    "\n",
    "path_sum = 8\n",
    "def has_path_sum(root: TreeNode, path_sum: int):\n",
    "    if root:\n",
    "        c1 = root.val == path_sum and not root.left and not root.right\n",
    "        c2 = has_path_sum(root.left, path_sum - root.val)\n",
    "        c3 = has_path_sum(root.right, path_sum - root.val)\n",
    "\n",
    "        return c1 or c2 or c3\n",
    "    return False\n",
    "\n",
    "path_sum = 7\n",
    "print(has_path_sum(tree.root, path_sum))\n",
    "# * TC = O(n), SC = O(h)"
   ]
  },
  {
   "cell_type": "markdown",
   "id": "78114e29",
   "metadata": {},
   "source": [
    "### 09 Flatten to linked list"
   ]
  },
  {
   "cell_type": "code",
   "execution_count": 35,
   "id": "824c7da1",
   "metadata": {},
   "outputs": [
    {
     "name": "stdout",
     "output_type": "stream",
     "text": [
      "1  \n"
     ]
    }
   ],
   "source": [
    "# tree = Tree()\n",
    "# tree.root = TreeNode(1)\n",
    "# tree.root.left = TreeNode(2)\n",
    "# tree.root.right = TreeNode(3)\n",
    "# global linked_list; linked_list = LinkedList()\n",
    "    \n",
    "# def flatten_to_linked_list(root):\n",
    "#     global linked_list\n",
    "#     if any([not root, not root.left, not root.right]):\n",
    "#         return linked_list\n",
    "    \n",
    "#     if not linked_list.head:\n",
    "#          linked_list.push(root.val) \n",
    "#     flatten_to_linked_list(root.left) \n",
    "#     flatten_to_linked_list(root.right)\n",
    "\n",
    "#     return linked_list\n",
    "\n",
    "# linked_list = flatten_to_linked_list(tree.root)\n",
    "# linked_list.print()\n",
    "# # * TC = O(n), O(nlogn)"
   ]
  },
  {
   "cell_type": "markdown",
   "id": "ebb83d6f",
   "metadata": {},
   "source": [
    "##  09 Graph"
   ]
  },
  {
   "cell_type": "code",
   "execution_count": 5,
   "id": "733a8a2c",
   "metadata": {},
   "outputs": [],
   "source": [
    "class Graph(object):\n",
    "    def __init__(self, graph: list(list)):\n",
    "        self.graph = graph\n",
    "        self.ROW = len(graph)\n",
    "        self.COL = len(graph[0])\n",
    "\n",
    "        self.row_nums = [-1, -1, -1, 0, 0, 1, 1, 1]\n",
    "        self.col_nums =  [-1, 0, 1, -1, 1, -1, 0, 1]"
   ]
  },
  {
   "cell_type": "markdown",
   "id": "82d27a2d",
   "metadata": {},
   "source": [
    "### 01 # of islands"
   ]
  },
  {
   "cell_type": "code",
   "execution_count": 14,
   "id": "ee510454",
   "metadata": {},
   "outputs": [
    {
     "name": "stdout",
     "output_type": "stream",
     "text": [
      "1\n"
     ]
    }
   ],
   "source": [
    "graph_obj = Graph([[1, 1, 0, 0, 0],\n",
    "                  [0, 1, 0, 0, 1],\n",
    "                  [1, 0, 0, 1, 1],\n",
    "                  [0, 0, 0, 0, 0],\n",
    "                  [1, 0, 1, 0, 1]])\n",
    "\n",
    "\n",
    "def is_safe(self, neighbour_i, neighbour_j, visited):\n",
    "    if neighbour_i < self.ROW and neighbour_j < self.COL and not visited[\n",
    "            neighbour_i][neighbour_j]:\n",
    "        return True\n",
    "\n",
    "    return False\n",
    "\n",
    "\n",
    "def DFS(self, i, j, visited):\n",
    "    visited[i][j] = True\n",
    "\n",
    "    for k in range(len(self.row_nums)):\n",
    "        neighbour_i = i + self.row_nums[k]\n",
    "        neighbour_j = j + self.row_nums[k]\n",
    "\n",
    "        if is_safe(self, neighbour_i, neighbour_j, visited):\n",
    "            DFS(self, neighbour_i, neighbour_j, visited)\n",
    "\n",
    "\n",
    "def find_no_of_islands(self):\n",
    "    count = 0\n",
    "    visited = [[0] * self.COL] * self.ROW\n",
    "\n",
    "    for i in range(self.ROW):\n",
    "        for j in range(self.COL):\n",
    "            if all([not visited[i][j], self.graph[i][j]]):\n",
    "                DFS(self, i, j, visited)\n",
    "                count += 1\n",
    "\n",
    "    return count\n",
    "\n",
    "\n",
    "print(find_no_of_islands(graph_obj))"
   ]
  },
  {
   "cell_type": "code",
   "execution_count": null,
   "id": "7571fda8",
   "metadata": {},
   "outputs": [],
   "source": []
  }
 ],
 "metadata": {
  "kernelspec": {
   "display_name": "Python 3 (ipykernel)",
   "language": "python",
   "name": "python3"
  },
  "language_info": {
   "codemirror_mode": {
    "name": "ipython",
    "version": 3
   },
   "file_extension": ".py",
   "mimetype": "text/x-python",
   "name": "python",
   "nbconvert_exporter": "python",
   "pygments_lexer": "ipython3",
   "version": "3.8.7"
  }
 },
 "nbformat": 4,
 "nbformat_minor": 5
}

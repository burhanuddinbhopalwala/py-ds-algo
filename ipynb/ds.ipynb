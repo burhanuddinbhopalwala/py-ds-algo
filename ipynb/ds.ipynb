{
 "cells": [
  {
   "cell_type": "markdown",
   "id": "82652add",
   "metadata": {},
   "source": [
    "# Data Structures (DS) & Algorithms"
   ]
  },
  {
   "cell_type": "code",
   "execution_count": 9,
   "id": "84defd2e",
   "metadata": {},
   "outputs": [],
   "source": [
    "import pdb"
   ]
  },
  {
   "cell_type": "code",
   "execution_count": 46,
   "id": "1b03cf6b",
   "metadata": {},
   "outputs": [
    {
     "data": {
      "text/plain": [
       "'/home/jovyan/.jupyter'"
      ]
     },
     "execution_count": 46,
     "metadata": {},
     "output_type": "execute_result"
    }
   ],
   "source": [
    "import jupyter_core\n",
    "jupyter_core.paths.jupyter_config_dir()"
   ]
  },
  {
   "cell_type": "markdown",
   "id": "b535b7b3",
   "metadata": {},
   "source": [
    "## 01 Array"
   ]
  },
  {
   "cell_type": "markdown",
   "id": "a0946b11",
   "metadata": {},
   "source": [
    "## 02 LinkedList"
   ]
  },
  {
   "cell_type": "code",
   "execution_count": 40,
   "id": "9d24d2b5",
   "metadata": {},
   "outputs": [
    {
     "name": "stdout",
     "output_type": "stream",
     "text": [
      "1  \n",
      "2  \n",
      "3  \n",
      "4  \n",
      "5  \n"
     ]
    }
   ],
   "source": [
    "class LinkedListNode(object):\n",
    "    def __init__(self, ele: int):\n",
    "        self.ele = ele\n",
    "        self.next = None\n",
    "        self.arbt = None\n",
    "\n",
    "\n",
    "class LinkedList(object):\n",
    "    def __init__(self):\n",
    "        self.head = None\n",
    "        \n",
    "    def push(self, ele: int):\n",
    "        if self.head:\n",
    "            node = LinkedListNode(ele)\n",
    "            current = self.head\n",
    "            while current.next:\n",
    "                current = current.next\n",
    "            current.next = node\n",
    "        else:\n",
    "            self.head = LinkedListNode(ele)\n",
    "            self.head.next = None\n",
    "            \n",
    "    def pop(self, ele):\n",
    "        current = self.head\n",
    "        temp = self.head\n",
    "        while current:\n",
    "            if current.next and current.ele == ele:\n",
    "                if current.next:\n",
    "                    current.ele = current.next.ele\n",
    "                    current.next = current.next.next\n",
    "                    return\n",
    "                else:\n",
    "                    temp.next = None\n",
    "            temp = current\n",
    "            current = current.next\n",
    "    \n",
    "    def print(self, sep='', end=''):\n",
    "        current = self.head\n",
    "        while current:\n",
    "            print(current.ele, sep, end)\n",
    "            current = current.next\n",
    "            \n",
    "    def print_by_arbt(self, sep='', end=''):\n",
    "        current = self.head\n",
    "        while current:\n",
    "            print(current.arbt.ele, sep, end)\n",
    "            current = current.next\n",
    "\n",
    "            \n",
    "linked_list = LinkedList()\n",
    "linked_list.push(1)\n",
    "linked_list.push(2)\n",
    "linked_list.push(3)\n",
    "linked_list.push(99)\n",
    "linked_list.push(101)\n",
    "linked_list.push(4)\n",
    "linked_list.push(5)\n",
    "\n",
    "linked_list.pop(99)\n",
    "linked_list.pop(101)\n",
    "linked_list.print()"
   ]
  },
  {
   "cell_type": "markdown",
   "id": "0143c567",
   "metadata": {},
   "source": [
    "### 01 reverse_inplace()"
   ]
  },
  {
   "cell_type": "code",
   "execution_count": 3,
   "id": "7a56349f",
   "metadata": {},
   "outputs": [
    {
     "name": "stdout",
     "output_type": "stream",
     "text": [
      "5  \n",
      "4  \n",
      "3  \n",
      "2  \n",
      "1  \n"
     ]
    }
   ],
   "source": [
    "linked_list = LinkedList()\n",
    "linked_list.push(1)\n",
    "linked_list.push(2)\n",
    "linked_list.push(3)\n",
    "linked_list.push(4)\n",
    "linked_list.push(5)\n",
    "\n",
    "def reverse_inplace(self):\n",
    "        current = self.head\n",
    "        previous, next_ = None, None\n",
    "        while current:\n",
    "            next_ = current.next\n",
    "            current.next = previous\n",
    "            previous = current\n",
    "            current = next_\n",
    "            \n",
    "        self.head = previousb\n",
    "        return self.head\n",
    "    \n",
    "reverse_inplace(linked_list)\n",
    "linked_list.print()"
   ]
  },
  {
   "cell_type": "markdown",
   "id": "32b3c8bc",
   "metadata": {},
   "source": [
    "### 02 find_middle_node()\n",
    "#### Hair Tortoize problem"
   ]
  },
  {
   "cell_type": "code",
   "execution_count": 53,
   "id": "0cfd56ab",
   "metadata": {},
   "outputs": [
    {
     "name": "stdout",
     "output_type": "stream",
     "text": [
      "3\n"
     ]
    }
   ],
   "source": [
    "linked_list = LinkedList()\n",
    "linked_list.push(1)\n",
    "linked_list.push(2)\n",
    "linked_list.push(3)\n",
    "linked_list.push(4)\n",
    "linked_list.push(5)\n",
    "\n",
    "def find_middle_node(self):\n",
    "    slow, fast = self.head, self.head\n",
    "    while fast and fast.next:\n",
    "        slow = slow.next\n",
    "        fast = fast.next.next\n",
    "\n",
    "    return slow.ele\n",
    "\n",
    "print(find_middle_node(linked_list))"
   ]
  },
  {
   "cell_type": "markdown",
   "id": "ffe55c60",
   "metadata": {},
   "source": [
    "#### Floyd’s Cycle-Finding Algorithm"
   ]
  },
  {
   "cell_type": "code",
   "execution_count": 26,
   "id": "d4357bd9",
   "metadata": {},
   "outputs": [
    {
     "name": "stdout",
     "output_type": "stream",
     "text": [
      "False\n"
     ]
    }
   ],
   "source": [
    "linked_list = LinkedList()\n",
    "linked_list.push(1)\n",
    "linked_list.push(2)\n",
    "linked_list.push(3)\n",
    "linked_list.push(4)\n",
    "linked_list.push(5)\n",
    "\n",
    "def detect_cycle(self):\n",
    "    slow, fast = self.head, self.head\n",
    "    while fast and fast.next:\n",
    "        slow = slow.next\n",
    "        fast = fast.next.next\n",
    "\n",
    "        if fast == slow:\n",
    "            return True\n",
    "    return False\n",
    "\n",
    "print(detect_cycle(linked_list))"
   ]
  },
  {
   "cell_type": "markdown",
   "id": "5afc23a0",
   "metadata": {},
   "source": [
    "### 03 find_kth_node()"
   ]
  },
  {
   "cell_type": "code",
   "execution_count": 41,
   "id": "517ea06c",
   "metadata": {},
   "outputs": [
    {
     "name": "stdout",
     "output_type": "stream",
     "text": [
      "2\n"
     ]
    }
   ],
   "source": [
    "linked_list = LinkedList()\n",
    "linked_list.push(1)\n",
    "linked_list.push(2)\n",
    "linked_list.push(3)\n",
    "linked_list.push(4)\n",
    "linked_list.push(5)\n",
    "\n",
    "def find_kth_node(self, k: int):\n",
    "    p, q = self.head, self.head\n",
    "\n",
    "    while k > 0:\n",
    "        p = p.next\n",
    "        k -= 1\n",
    "    \n",
    "    if not p:\n",
    "        return -1\n",
    "    \n",
    "    while p:\n",
    "        p = p.next\n",
    "        q = q.next\n",
    "\n",
    "    return q.ele\n",
    "\n",
    "print(find_kth_node(linked_list, k=4))"
   ]
  },
  {
   "cell_type": "markdown",
   "id": "f0115f34",
   "metadata": {},
   "source": [
    "### 04 alternate_split()"
   ]
  },
  {
   "cell_type": "code",
   "execution_count": 38,
   "id": "86a60d21",
   "metadata": {},
   "outputs": [
    {
     "name": "stdout",
     "output_type": "stream",
     "text": [
      "1\n",
      "3\n",
      "5\n",
      "---------------\n",
      "2\n",
      "4\n",
      "5\n"
     ]
    }
   ],
   "source": [
    "linked_list = LinkedList()\n",
    "linked_list.push(1)\n",
    "linked_list.push(2)\n",
    "linked_list.push(3)\n",
    "linked_list.push(4)\n",
    "linked_list.push(5)\n",
    "\n",
    "def alternate_split(self):\n",
    "        head1 = self.head\n",
    "        head2 = self.head.next\n",
    "        if not any([head1, head2]):\n",
    "            return [-1, -1]\n",
    "\n",
    "        current = head1\n",
    "        while current.next:\n",
    "            temp = current.next\n",
    "            current.next = temp.next if temp.next else temp\n",
    "            current = temp\n",
    "            \n",
    "        return [head1, head2]\n",
    "    \n",
    "heads = alternate_split(linked_list)\n",
    "h1, h2 = heads[0], heads[1]\n",
    "head1, head2 = h1, h2\n",
    "while head1:\n",
    "    print(head1.ele)\n",
    "    head1 = head1.next\n",
    "print('---------------')\n",
    "while head2:\n",
    "    print(head2.ele)\n",
    "    head2 = head2.next"
   ]
  },
  {
   "cell_type": "markdown",
   "id": "e78f9e0b",
   "metadata": {},
   "source": [
    "### 05 merge()"
   ]
  },
  {
   "cell_type": "code",
   "execution_count": 49,
   "id": "cb1a451d",
   "metadata": {},
   "outputs": [
    {
     "name": "stdout",
     "output_type": "stream",
     "text": [
      "5\n",
      "50\n"
     ]
    }
   ],
   "source": [
    "linked_list1 = LinkedList()\n",
    "linked_list1.push(1)\n",
    "linked_list1.push(2)\n",
    "linked_list1.push(3)\n",
    "linked_list1.push(4)\n",
    "linked_list1.push(5)\n",
    "\n",
    "linked_list2 = LinkedList()\n",
    "linked_list2.push(10)\n",
    "linked_list2.push(20)\n",
    "linked_list2.push(30)\n",
    "linked_list2.push(40)\n",
    "linked_list2.push(50)\n",
    "\n",
    "def merge(self, head1: LinkedListNode, head2: LinkedListNode):\n",
    "        if not head1:\n",
    "            return head2\n",
    "        if not head2:\n",
    "            return head1\n",
    "\n",
    "        head = None\n",
    "        if head1.ele < head2.ele:\n",
    "            head = head1\n",
    "            head1 = head1.next\n",
    "        else:\n",
    "            head = head2\n",
    "            head2 = head2.next\n",
    "\n",
    "        while head1 and head2:\n",
    "            if head1.ele < head2.ele:\n",
    "                head.next = head1\n",
    "                head = head.next\n",
    "                head1 = head1.next\n",
    "            else:\n",
    "                head.next = head2\n",
    "                head = head.next\n",
    "                head2 = head2.next\n",
    "\n",
    "        while head1:\n",
    "            head.next = head1\n",
    "            head1 = head1.next\n",
    "\n",
    "        while head2:\n",
    "            head.next = head2\n",
    "            head2 = head2.next\n",
    "\n",
    "        return head\n",
    "    \n",
    "head =merge(LinkedList(), linked_list1.head, linked_list2.head)\n",
    "while head:\n",
    "    print(head.ele)\n",
    "    head = head.next"
   ]
  },
  {
   "cell_type": "markdown",
   "id": "7a043cef",
   "metadata": {},
   "source": [
    "### 06 sorted_0_1_2()"
   ]
  },
  {
   "cell_type": "code",
   "execution_count": 57,
   "id": "42edf069",
   "metadata": {},
   "outputs": [
    {
     "name": "stdout",
     "output_type": "stream",
     "text": [
      "0\n",
      "1\n",
      "1\n",
      "2\n",
      "2\n"
     ]
    }
   ],
   "source": [
    "linked_list = LinkedList()\n",
    "linked_list.push(1)\n",
    "linked_list.push(2)\n",
    "linked_list.push(0)\n",
    "linked_list.push(1)\n",
    "linked_list.push(2)\n",
    "\n",
    "def sorted_0_1_2(self):\n",
    "    count = [0] * 3\n",
    "    current = self.head\n",
    "    while current:\n",
    "        count[current.ele] += 1\n",
    "        current = current.next\n",
    "\n",
    "    current = self.head\n",
    "    for index, ele in enumerate(count):\n",
    "        while ele > 0:\n",
    "            ele -= 1\n",
    "            current.ele = index\n",
    "            current = current.next\n",
    "            \n",
    "sorted_0_1_2(linked_list)\n",
    "linked_list.print()"
   ]
  },
  {
   "cell_type": "markdown",
   "id": "1c420547",
   "metadata": {},
   "source": [
    "### 07 add_1()"
   ]
  },
  {
   "cell_type": "code",
   "execution_count": 78,
   "id": "91c17332",
   "metadata": {},
   "outputs": [
    {
     "name": "stdout",
     "output_type": "stream",
     "text": [
      "1   \n",
      "0   \n",
      "0   \n",
      "0   \n",
      "0   \n",
      "0   \n"
     ]
    }
   ],
   "source": [
    "linked_list = LinkedList()\n",
    "linked_list.push(9)\n",
    "linked_list.push(9)\n",
    "linked_list.push(9)\n",
    "linked_list.push(9)\n",
    "linked_list.push(9)\n",
    "\n",
    "def add_1(self):\n",
    "    carry = 1\n",
    "    self.head = reverse_inplace(self)\n",
    "\n",
    "    current = self.head\n",
    "    while current:\n",
    "        add = current.ele + carry\n",
    "        carry = 1 if add // 10 else 0\n",
    "        current.ele = 0 if add // 10 else add\n",
    "\n",
    "        temp = current\n",
    "        current = current.next\n",
    "\n",
    "    if carry:\n",
    "        temp.next = LinkedListNode(carry)\n",
    "    self.head = reverse_inplace(self)\n",
    "    \n",
    "    \n",
    "add_1(linked_list)\n",
    "linked_list.print(end=' ')"
   ]
  },
  {
   "cell_type": "markdown",
   "id": "595cf8b9",
   "metadata": {},
   "source": [
    "### 08 set_arbt_right_maxm()"
   ]
  },
  {
   "cell_type": "code",
   "execution_count": 94,
   "id": "60e588d3",
   "metadata": {},
   "outputs": [
    {
     "name": "stdout",
     "output_type": "stream",
     "text": [
      "1  \n",
      "2  \n",
      "30  \n",
      "10  \n",
      "5  \n",
      "-----------\n",
      "30\n",
      "30\n",
      "10\n",
      "5\n"
     ]
    }
   ],
   "source": [
    "linked_list = LinkedList()\n",
    "linked_list.push(1)\n",
    "linked_list.push(2)\n",
    "linked_list.push(30)\n",
    "linked_list.push(10)\n",
    "linked_list.push(5)\n",
    "\n",
    "def set_arbt_right_maxm(self):\n",
    "        self.head = reverse_inplace(self)\n",
    "        current = self.head\n",
    "        current.arbt = None\n",
    "\n",
    "        maxm_temp = current\n",
    "        current = current.next\n",
    "        maxm = maxm_temp.ele\n",
    "        \n",
    "        while current:\n",
    "            current.arbt = maxm_temp\n",
    "            if maxm < current.ele:\n",
    "                maxm = current.ele\n",
    "                maxm_temp = current\n",
    "                \n",
    "            current = current.next\n",
    "\n",
    "        reverse_inplace(self)\n",
    "\n",
    "set_arbt_right_maxm(linked_list)\n",
    "linked_list.print()\n",
    "print('-----------')\n",
    "linked_list.print_by_arbt()"
   ]
  },
  {
   "cell_type": "markdown",
   "id": "85eb55bb",
   "metadata": {},
   "source": [
    "### 09 palindrome()"
   ]
  },
  {
   "cell_type": "code",
   "execution_count": 85,
   "id": "99ece13c",
   "metadata": {},
   "outputs": [],
   "source": [
    " # def palindrome(self):\n",
    "    #     # find middle + reverse half\n",
    "    #     # OR iterate first and last pointer until middle pointer"
   ]
  },
  {
   "cell_type": "markdown",
   "id": "a36fec6b",
   "metadata": {},
   "source": [
    "## 03 Hashing"
   ]
  },
  {
   "cell_type": "markdown",
   "id": "e75fe6e6",
   "metadata": {},
   "source": [
    "### 01 check_duplicate_within_k_distance"
   ]
  },
  {
   "cell_type": "code",
   "execution_count": 58,
   "id": "f29a5518",
   "metadata": {},
   "outputs": [
    {
     "name": "stdout",
     "output_type": "stream",
     "text": [
      "Duplicate in k = 2 distance: 8\n",
      "Duplicate in k = 2 distance: 9\n",
      "None\n"
     ]
    }
   ],
   "source": [
    "def check_duplicates_k(nums, k):\n",
    "    s = set()\n",
    "    for index, num in enumerate(nums):\n",
    "        if num in s:\n",
    "            print(f'Duplicate in k = {k} distance: {num}')\n",
    "            \n",
    "        if index > k:\n",
    "            s.discard(nums[index - k])\n",
    "            \n",
    "        s.add(num)\n",
    "    s.clear()\n",
    "    \n",
    "nums = [2, 3, 5, 6, 8, 5, 8, 9, 9]\n",
    "print(check_duplicates_k(nums, 2))"
   ]
  },
  {
   "cell_type": "markdown",
   "id": "0c022af7",
   "metadata": {},
   "source": [
    "### 02 distinct_k_window"
   ]
  },
  {
   "cell_type": "code",
   "execution_count": 61,
   "id": "ac628dbb",
   "metadata": {},
   "outputs": [
    {
     "name": "stdout",
     "output_type": "stream",
     "text": [
      "19\n"
     ]
    }
   ],
   "source": [
    "def distinct_k_window(nums, k):\n",
    "    s = set()\n",
    "    result = 0\n",
    "\n",
    "    for index, ele in enumerate(nums[:k]):\n",
    "        if ele in s:\n",
    "            result -= 1\n",
    "            continue\n",
    "        s.add(ele)\n",
    "        result += 1\n",
    "        \n",
    "    for index in range(k, len(nums)):\n",
    "        result += k\n",
    "        s.discard(nums[index-k])\n",
    "        if nums[index] in s:\n",
    "            result -= 1\n",
    "        s.add(nums[index])\n",
    "        \n",
    "    return result\n",
    "\n",
    "\n",
    "nums = [2, 3, 5, 6, 8, 5, 8, 9, 9]\n",
    "print(distinct_k_window(nums, 3))"
   ]
  },
  {
   "cell_type": "markdown",
   "id": "6504fbdc",
   "metadata": {},
   "source": [
    "### 03 disjoint_sets"
   ]
  },
  {
   "cell_type": "code",
   "execution_count": 66,
   "id": "e87bfc3d",
   "metadata": {},
   "outputs": [
    {
     "name": "stdout",
     "output_type": "stream",
     "text": [
      "False\n",
      "True\n"
     ]
    }
   ],
   "source": [
    "def disjoint_set(nums1, nums2):\n",
    "    s1 = set()\n",
    "    \n",
    "    for num in nums1:\n",
    "        s1.add(num)\n",
    "    \n",
    "    for num in nums2:\n",
    "        if num in s1:\n",
    "            return False\n",
    "    \n",
    "    return True\n",
    "\n",
    "nums = [2, 3, 5, 6, 8, 5, 8, 9, 9]\n",
    "print(disjoint_set(nums, [20, 80, 9]))\n",
    "print(disjoint_set(nums, [20, 80, 90]))"
   ]
  },
  {
   "cell_type": "markdown",
   "id": "9db010eb",
   "metadata": {},
   "source": [
    "### 04 group_by_first_occurrence"
   ]
  },
  {
   "cell_type": "code",
   "execution_count": 68,
   "id": "6fe9e2e5",
   "metadata": {},
   "outputs": [
    {
     "name": "stdout",
     "output_type": "stream",
     "text": [
      "2\n",
      "6\n",
      "6\n",
      "9\n",
      "9\n",
      "5\n",
      "5\n",
      "3\n",
      "8\n",
      "8\n",
      "None\n"
     ]
    }
   ],
   "source": [
    "def group_by_first_occ(nums):\n",
    "    h = {}\n",
    "    for num in nums:\n",
    "        if num in h:\n",
    "            h[num] += 1\n",
    "        else:\n",
    "            h[num] = 1\n",
    "  \n",
    "    for index, num in enumerate(nums):\n",
    "        try:\n",
    "            counter = h[num]\n",
    "            while counter > 0:\n",
    "                print(num)\n",
    "                counter -= 1\n",
    "            del h[num]\n",
    "        except KeyError as key_error:\n",
    "            continue\n",
    "\n",
    "\n",
    "\n",
    "nums = [2, 6, 9, 5, 3, 6, 8, 5, 8, 9]\n",
    "print(group_by_first_occ(nums))"
   ]
  },
  {
   "cell_type": "markdown",
   "id": "199e0ebe",
   "metadata": {},
   "source": [
    "## 04 Stack"
   ]
  },
  {
   "cell_type": "markdown",
   "id": "9cbcb937",
   "metadata": {},
   "source": [
    "### 01 merge_overlapping_intervals"
   ]
  },
  {
   "cell_type": "code",
   "execution_count": 48,
   "id": "efe08b09",
   "metadata": {},
   "outputs": [
    {
     "name": "stdout",
     "output_type": "stream",
     "text": [
      "[(1, 55), (77, 99)]\n"
     ]
    }
   ],
   "source": [
    "intervals = [\n",
    "    (3, 4),\n",
    "    (7, 9),\n",
    "    (1, 5),\n",
    "    (2, 9),\n",
    "    (4, 5),\n",
    "    (33, 55),\n",
    "    (22, 50),\n",
    "    (2, 33), (77, 99)]\n",
    "\n",
    "\n",
    "def merge_overlap(intervals: list(tuple())):\n",
    "    intervals = sorted(intervals, key=lambda x: x[0], reverse=True)\n",
    "\n",
    "    stack, results = [], []\n",
    "    for interval in intervals:\n",
    "        stack.append(interval)\n",
    "\n",
    "    results.append(stack.pop())\n",
    "    # * bool(non-empty): True\n",
    "    while bool(stack):\n",
    "        interval = stack.pop()\n",
    "        last_interval = results[-1]\n",
    "        if interval[0] > last_interval[1]:\n",
    "            # Non Overlapping case\n",
    "            results.append(interval)\n",
    "        else:\n",
    "            results.pop()\n",
    "            start = min(interval[0], last_interval[0])\n",
    "            end = max(interval[1], last_interval[1])\n",
    "            results.append((start, end))\n",
    "\n",
    "    return sorted(results, key = lambda x:x[0], reverse = False)\n",
    "\n",
    "print(merge_overlap(intervals))\n",
    "# * TC = O(nlogn) Includes sorting"
   ]
  },
  {
   "cell_type": "markdown",
   "id": "3bd3bd7e",
   "metadata": {},
   "source": [
    "### 02 closest_greater_right"
   ]
  },
  {
   "cell_type": "code",
   "execution_count": 49,
   "id": "157a8455",
   "metadata": {},
   "outputs": [
    {
     "name": "stdout",
     "output_type": "stream",
     "text": [
      "[9, 9, -inf, -inf, -inf, -inf]\n"
     ]
    }
   ],
   "source": [
    "def closest_greater_right(nums: list) -> list:\n",
    "    stack = []\n",
    "    stack.append(0)\n",
    "    results = [float('-inf')] * len(nums)\n",
    "\n",
    "    for index, element in enumerate(nums[1:]):\n",
    "        while bool(stack) and element > nums[stack[-1]]:\n",
    "            results[stack[-1]] = element\n",
    "            stack.pop()\n",
    "        stack.append(index)\n",
    "\n",
    "    return results\n",
    "\n",
    "# * TC = O(n)\n",
    "print(closest_greater_right([6, 3, 4, 9, 2, 1]))"
   ]
  },
  {
   "cell_type": "markdown",
   "id": "658ce1ed",
   "metadata": {},
   "source": [
    "### 03 stock_span_problem"
   ]
  },
  {
   "cell_type": "code",
   "execution_count": 50,
   "id": "04caba8e",
   "metadata": {},
   "outputs": [
    {
     "name": "stdout",
     "output_type": "stream",
     "text": [
      "[0, 0, 3, 0, 0, 0, 0]\n"
     ]
    }
   ],
   "source": [
    "def evaluate_span(nums: list):\n",
    "    stack = []\n",
    "    results = [0] * len(nums)\n",
    "\n",
    "    stack.append(0)\n",
    "    results.append(0)\n",
    "\n",
    "    for index, element in enumerate(nums[1:]):\n",
    "        span = 0\n",
    "        while bool(stack) and element > nums[stack[-1]]:\n",
    "            span += 1\n",
    "            stack.pop()\n",
    "        results[index] = span if span > 0 else 0\n",
    "        stack.append(index)\n",
    "    return results\n",
    "\n",
    "# * TC = O(n)\n",
    "print(evaluate_span([6, 3, 4, 9, 2, 1]))"
   ]
  },
  {
   "cell_type": "markdown",
   "id": "867af772",
   "metadata": {},
   "source": [
    "### 04 reverse_using_stack"
   ]
  },
  {
   "cell_type": "code",
   "execution_count": 53,
   "id": "10ad7921",
   "metadata": {},
   "outputs": [
    {
     "name": "stdout",
     "output_type": "stream",
     "text": [
      "alawlapohB niddunahruB\n"
     ]
    }
   ],
   "source": [
    "def reverse_string_stack(string: str):\n",
    "    stack, results = [], []\n",
    "    for char in string:\n",
    "        stack.append(char)\n",
    "\n",
    "    while bool(stack):\n",
    "        results.append(stack.pop())\n",
    "        \n",
    "    return ''.join(results)\n",
    "\n",
    "print(reverse_string_stack('Burhanuddin Bhopalwala'))"
   ]
  },
  {
   "cell_type": "markdown",
   "id": "72b37bff",
   "metadata": {},
   "source": [
    "### 05 get_minm_in_O(1)"
   ]
  },
  {
   "cell_type": "code",
   "execution_count": 55,
   "id": "26e75eb2",
   "metadata": {},
   "outputs": [
    {
     "name": "stdout",
     "output_type": "stream",
     "text": [
      "3\n",
      "3\n",
      "0\n"
     ]
    }
   ],
   "source": [
    "class Stack(object):\n",
    "    def __init__(self):\n",
    "        self.top = -1\n",
    "        self.store = []\n",
    "        self.minm = float('inf')\n",
    "\n",
    "    def push(self, ele: int):\n",
    "        if ele < self.minm:\n",
    "            self.store.append(ele - self.minm)\n",
    "            self.minm = ele\n",
    "        else:\n",
    "            self.store.append(ele)\n",
    "        self.top += 1\n",
    "\n",
    "    def pop(self):\n",
    "        if self.top == -1:\n",
    "            return self.minm\n",
    "        self.top -= 1\n",
    "        temp = self.store.pop()\n",
    "        if self.minm > temp:\n",
    "            temp = self.minm\n",
    "            self.minm = self.minm - temp\n",
    "        return temp\n",
    "\n",
    "    def find_minimum(self):\n",
    "        # * O(1)\n",
    "        return self.minm\n",
    "\n",
    "\n",
    "s = Stack()\n",
    "\n",
    "s.push(4)\n",
    "s.push(3)\n",
    "print(s.find_minimum())  # * 3\n",
    "\n",
    "print(s.pop())  # * 3\n",
    "print(s.find_minimum())  # * 4"
   ]
  },
  {
   "cell_type": "markdown",
   "id": "67ddeca3",
   "metadata": {},
   "source": [
    "## 05 Heap"
   ]
  },
  {
   "cell_type": "markdown",
   "id": "7f576dae",
   "metadata": {},
   "source": [
    "### 01 find_kth_largest using custom heap"
   ]
  },
  {
   "cell_type": "code",
   "execution_count": 15,
   "id": "3a33e687",
   "metadata": {},
   "outputs": [],
   "source": [
    "class Heap(object):\n",
    "    def __init__(self, nums: list):\n",
    "        self.store = nums\n",
    "        self.build_min_heap()\n",
    "\n",
    "    def min_heapify(self, nums: list, size: int, index):\n",
    "        left: int = 2*index + 1\n",
    "        right: int = 2*index + 2\n",
    "        smallest: int = index\n",
    "\n",
    "        if size > left and self.store[smallest] > self.store[left]:\n",
    "            smallest = left\n",
    "\n",
    "        if size > right and self.store[smallest] > self.store[right]:\n",
    "            smallest = right\n",
    "\n",
    "        if smallest != index:\n",
    "            temp = self.store[index]\n",
    "            self.store[index] = self.store[smallest]\n",
    "            self.store[smallest] = temp\n",
    "            self.min_heapify(self.store, size, smallest)\n",
    "\n",
    "    def build_min_heap(self):\n",
    "        for index in range(0, len(self.store) // 2):\n",
    "            self.min_heapify(self.store, len(self.store), index)\n",
    "\n",
    "    def pop(self):\n",
    "        pop = self.store.pop(0)\n",
    "        self.min_heapify(self.store, len(self.store), 0)\n",
    "        return pop"
   ]
  },
  {
   "cell_type": "code",
   "execution_count": 18,
   "id": "4f9cbecd",
   "metadata": {},
   "outputs": [
    {
     "name": "stdout",
     "output_type": "stream",
     "text": [
      "7\n"
     ]
    }
   ],
   "source": [
    "import heapq\n",
    "\n",
    "def find_kth_largest(self, k: int):\n",
    "        for _ in range(len(self.store) - k):\n",
    "            self.store.pop(0)\n",
    "            self.min_heapify(self.store, len(self.store), 0)\n",
    "        pop = self.store.pop(0)\n",
    "        self.min_heapify(self.store, len(self.store), 0)\n",
    "        return pop\n",
    "\n",
    "\n",
    "heap = Heap([10, 20, 3, 4, 5, 6, 7])\n",
    "print(find_kth_largest(heap, 3))  # * 7"
   ]
  },
  {
   "cell_type": "markdown",
   "id": "0ce2f149",
   "metadata": {},
   "source": [
    "### 02 find_kth_largest using builtin heap"
   ]
  },
  {
   "cell_type": "code",
   "execution_count": 20,
   "id": "8aad1fd0",
   "metadata": {},
   "outputs": [
    {
     "name": "stdout",
     "output_type": "stream",
     "text": [
      "7\n"
     ]
    }
   ],
   "source": [
    "class Solution(object):\n",
    "    @staticmethod\n",
    "    def findKthLargest(nums, k):\n",
    "        \"\"\"\n",
    "        :type nums: List[int]\n",
    "        :type k: int\n",
    "        :rtype: int\n",
    "        \"\"\"\n",
    "        heapq.heapify(nums)\n",
    "        for i in range(len(nums) - k):\n",
    "            heapq.heappop(nums)\n",
    "        return heapq.heappop(nums)\n",
    "\n",
    "\n",
    "print(Solution.findKthLargest([10, 20, 3, 4, 5, 6, 7], 3))"
   ]
  },
  {
   "cell_type": "code",
   "execution_count": 21,
   "id": "5744db2e",
   "metadata": {},
   "outputs": [],
   "source": [
    "# * Common ones:\n",
    "# Max heap to Min Heap: O(nlogn) -> O(n)\n",
    "# BST to Max Heap: Reverse Inorder Traversal: O(n)\n",
    "################################################################################\n"
   ]
  },
  {
   "cell_type": "markdown",
   "id": "5513a804",
   "metadata": {},
   "source": [
    "## 07 String\n",
    "\n",
    "Strings are immutable in python so inplace transformations are not possible. All the below example are out of place modifications."
   ]
  },
  {
   "cell_type": "code",
   "execution_count": 17,
   "id": "ee3e0a55",
   "metadata": {},
   "outputs": [],
   "source": [
    "MAX_ASCII = 256"
   ]
  },
  {
   "cell_type": "markdown",
   "id": "7584b3d8",
   "metadata": {},
   "source": [
    "### 01 maxm_occurence of a character in a string"
   ]
  },
  {
   "cell_type": "code",
   "execution_count": 38,
   "id": "50eb32c3",
   "metadata": {},
   "outputs": [
    {
     "name": "stdout",
     "output_type": "stream",
     "text": [
      "a\n"
     ]
    }
   ],
   "source": [
    "string = 'Burhanuddin Bhopalwala'\n",
    "\n",
    "def maxm_occurence(string: str):\n",
    "    h = [0] * MAX_ASCII\n",
    "    for char in string:\n",
    "        h[ord(char)] += 1\n",
    "\n",
    "    return chr(h.index(max(h)))\n",
    "\n",
    "print(maxm_occurence(string))"
   ]
  },
  {
   "cell_type": "markdown",
   "id": "5cbd79dc",
   "metadata": {},
   "source": [
    "### 02 De-dup the string"
   ]
  },
  {
   "cell_type": "code",
   "execution_count": 39,
   "id": "882cd95b",
   "metadata": {},
   "outputs": [
    {
     "name": "stdout",
     "output_type": "stream",
     "text": [
      "Burhandi oplw\n"
     ]
    }
   ],
   "source": [
    "string = 'Burhanuddin Bhopalwala'\n",
    "\n",
    "def de_dup(string: str):\n",
    "    result = []\n",
    "    \n",
    "    h = [0] * MAX_ASCII\n",
    "    for char in string:\n",
    "        if h[ord(char)] == 0:\n",
    "            result.append(char)\n",
    "            h[ord(char)] = 1\n",
    "            \n",
    "    return ''.join(result)\n",
    "\n",
    "print(de_dup(string))"
   ]
  },
  {
   "cell_type": "markdown",
   "id": "089ef7a0",
   "metadata": {},
   "source": [
    "### 03 Check Rotation"
   ]
  },
  {
   "cell_type": "code",
   "execution_count": 40,
   "id": "9070d279",
   "metadata": {},
   "outputs": [
    {
     "name": "stdout",
     "output_type": "stream",
     "text": [
      "5\n"
     ]
    }
   ],
   "source": [
    "def check_rotation(str1: str, str2: str):\n",
    "    # return sorted(word1) == sorted(word2)\n",
    "    concat = str1 + str2\n",
    "    \n",
    "    return concat.find(str2)  # * 1, -1\n",
    "\n",
    "print(check_rotation('madam', 'adamm'))"
   ]
  },
  {
   "cell_type": "markdown",
   "id": "be1f7261",
   "metadata": {},
   "source": [
    "### 04 is_palindrome"
   ]
  },
  {
   "cell_type": "code",
   "execution_count": 45,
   "id": "fe594ad2",
   "metadata": {},
   "outputs": [
    {
     "name": "stdout",
     "output_type": "stream",
     "text": [
      "True\n"
     ]
    }
   ],
   "source": [
    "def is_palindrome(string: str):\n",
    "    # return string == reverse_string_stack(string)\n",
    "    return list(string) == list(reversed(string))\n",
    "\n",
    "\n",
    "print(is_palindrome('madam'))"
   ]
  },
  {
   "cell_type": "markdown",
   "id": "fced55a6",
   "metadata": {},
   "source": [
    "### 05 first_non_repeating_char"
   ]
  },
  {
   "cell_type": "code",
   "execution_count": 47,
   "id": "b978da53",
   "metadata": {},
   "outputs": [
    {
     "name": "stdout",
     "output_type": "stream",
     "text": [
      "B\n"
     ]
    }
   ],
   "source": [
    "def first_non_repeating_char(string: str):\n",
    "    store = {}\n",
    "    for index, char in enumerate(word):\n",
    "        if char in store:\n",
    "            store[char][1] += 1\n",
    "        else:\n",
    "            store[char] = [index, 1]\n",
    "\n",
    "    first_minm = -1 * len(word)\n",
    "    for key, value in store.items():\n",
    "        if first_minm > int(value[0]) and int(value[1]) == 1:\n",
    "            first_minm = key\n",
    "            \n",
    "    return word[first_minm]\n",
    "\n",
    "\n",
    "def first_non_repeating_char_2_iter(string: str):\n",
    "    h = [0] * MAX_ASCII\n",
    "    \n",
    "    for char in string:\n",
    "        h[ord(char)] += 1\n",
    "        \n",
    "    for char in string:\n",
    "        if h[ord(char)] == 1:\n",
    "            return char\n",
    "    \n",
    "    return None\n",
    "\n",
    "print(first_non_repeating_char_2_iter('Burhanuddin'))"
   ]
  },
  {
   "cell_type": "code",
   "execution_count": 29,
   "id": "fca98555",
   "metadata": {},
   "outputs": [],
   "source": [
    "# * Pending: Maxm and Minm with minm no of comparisons"
   ]
  },
  {
   "cell_type": "markdown",
   "id": "21d4f1bb",
   "metadata": {},
   "source": [
    "## 08 Tree"
   ]
  },
  {
   "cell_type": "code",
   "execution_count": null,
   "id": "6a71cf86",
   "metadata": {},
   "outputs": [],
   "source": [
    "# Definition for a binary tree node.\n",
    "\n",
    "\n",
    "class TreeNode(object):\n",
    "    def __init__(self, x):\n",
    "        self.val = x\n",
    "        self.left = None\n",
    "        self.right = None\n",
    "\n",
    "\n",
    "class Solution(object):\n",
    "    def maxDepth(self, root):\n",
    "        \"\"\"\n",
    "        :type root: TreeNode\n",
    "        :rtype: int\n",
    "        \"\"\"\n",
    "        height_left = self.maxDepth(root.left)\n",
    "        height_right = self.maxDepth(root.right)\n",
    "        return 1 + max(height_left, height_right) if root else 0\n",
    "\n",
    "    def invertTree(self, root):\n",
    "        if root:\n",
    "            root.left = self.invertTree(root.right)\n",
    "            root.right = self.invertTree(root.left)\n",
    "        return root\n",
    "\n",
    "    def isSameTree(self, p, q):\n",
    "        if p is None and q is None:\n",
    "            return True\n",
    "        if p is not None and q is not None:\n",
    "            c1 = p.val == q.val\n",
    "            c2 = self.isSameTree(p.left, q.left)\n",
    "            c3 = self.isSameTree(p.right, q.right)\n",
    "            return c1 and c2 and c3\n",
    "        return False\n",
    "\n",
    "    def levelOrder(self, root):\n",
    "        \"\"\"\n",
    "        :type root: TreeNode\n",
    "        :rtype: List[List[int]]\n",
    "        \"\"\"\n",
    "        if not root:\n",
    "            return []\n",
    "        res, st = [], [root]\n",
    "        while st:\n",
    "            res.append([node.val for node in st])\n",
    "            st = [child for node in st for child in (\n",
    "                node.left, node.right) if child]\n",
    "        return res\n",
    "\n",
    "    def inorderTraversal(self, root):\n",
    "        \"\"\"\n",
    "        :type root: TreeNode\n",
    "        :rtype: List[int]\n",
    "        \"\"\"\n",
    "        return self.inorderTraversal(root.left) + [root.val] + self.inorderTraversal(\n",
    "            root.right) if root else[]"
   ]
  },
  {
   "cell_type": "markdown",
   "id": "ebb83d6f",
   "metadata": {},
   "source": [
    "##  09 Graph"
   ]
  },
  {
   "cell_type": "code",
   "execution_count": 5,
   "id": "733a8a2c",
   "metadata": {},
   "outputs": [],
   "source": [
    "class Graph(object):\n",
    "    def __init__(self, graph: [[]]):\n",
    "        self.graph = graph\n",
    "        self.ROW = len(graph)\n",
    "        self.COL = len(graph[0])\n",
    "\n",
    "        self.row_nums = [-1, -1, -1, 0, 0, 1, 1, 1]\n",
    "        self.col_nums =  [-1, 0, 1, -1, 1, -1, 0, 1]"
   ]
  },
  {
   "cell_type": "markdown",
   "id": "82d27a2d",
   "metadata": {},
   "source": [
    "### 01 # of islands"
   ]
  },
  {
   "cell_type": "code",
   "execution_count": 14,
   "id": "ee510454",
   "metadata": {},
   "outputs": [
    {
     "name": "stdout",
     "output_type": "stream",
     "text": [
      "1\n"
     ]
    }
   ],
   "source": [
    "graph_obj = Graph([[1, 1, 0, 0, 0],\n",
    "                  [0, 1, 0, 0, 1],\n",
    "                  [1, 0, 0, 1, 1],\n",
    "                  [0, 0, 0, 0, 0],\n",
    "                  [1, 0, 1, 0, 1]])\n",
    "\n",
    "\n",
    "def is_safe(self, neighbour_i, neighbour_j, visited):\n",
    "    if neighbour_i < self.ROW and neighbour_j < self.COL and not visited[\n",
    "            neighbour_i][neighbour_j]:\n",
    "        return True\n",
    "\n",
    "    return False\n",
    "\n",
    "\n",
    "def DFS(self, i, j, visited):\n",
    "    visited[i][j] = True\n",
    "\n",
    "    for k in range(len(self.row_nums)):\n",
    "        neighbour_i = i + self.row_nums[k]\n",
    "        neighbour_j = j + self.row_nums[k]\n",
    "\n",
    "        if is_safe(self, neighbour_i, neighbour_j, visited):\n",
    "            DFS(self, neighbour_i, neighbour_j, visited)\n",
    "\n",
    "\n",
    "def find_no_of_islands(self):\n",
    "    count = 0\n",
    "    visited = [[0] * self.COL] * self.ROW\n",
    "\n",
    "    for i in range(self.ROW):\n",
    "        for j in range(self.COL):\n",
    "            if all([not visited[i][j], self.graph[i][j]]):\n",
    "                DFS(self, i, j, visited)\n",
    "                count += 1\n",
    "\n",
    "    return count\n",
    "\n",
    "\n",
    "print(find_no_of_islands(graph_obj))"
   ]
  }
 ],
 "metadata": {
  "kernelspec": {
   "display_name": "Python 3 (ipykernel)",
   "language": "python",
   "name": "python3"
  },
  "language_info": {
   "codemirror_mode": {
    "name": "ipython",
    "version": 3
   },
   "file_extension": ".py",
   "mimetype": "text/x-python",
   "name": "python",
   "nbconvert_exporter": "python",
   "pygments_lexer": "ipython3",
   "version": "3.9.7"
  }
 },
 "nbformat": 4,
 "nbformat_minor": 5
}

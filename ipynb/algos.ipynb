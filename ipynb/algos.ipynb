{
 "cells": [
  {
   "cell_type": "code",
   "execution_count": 2,
   "id": "cbeeef01",
   "metadata": {},
   "outputs": [],
   "source": [
    "import pdb"
   ]
  },
  {
   "cell_type": "markdown",
   "id": "f0fb831c",
   "metadata": {},
   "source": [
    "## 01 Divide & Conquer"
   ]
  },
  {
   "cell_type": "code",
   "execution_count": 49,
   "id": "7da7cac6",
   "metadata": {},
   "outputs": [
    {
     "name": "stdout",
     "output_type": "stream",
     "text": [
      "6\n"
     ]
    }
   ],
   "source": [
    "def binary_search(arr: list, ele: int, start, end, first_occ=True):\n",
    "    result = -1\n",
    "\n",
    "    while start <= end:\n",
    "        mid = (start + end) // 2\n",
    "        if arr[mid] == ele:\n",
    "            result = mid\n",
    "            if first_occ:\n",
    "                end = mid - 1\n",
    "            else:\n",
    "                start = mid + 1\n",
    "        elif arr[mid] > ele:\n",
    "            end = mid - 1\n",
    "        else:\n",
    "            start = mid + 1\n",
    "    return result\n",
    "\n",
    "\n",
    "arr = [1, 2, 3, 4, 5, 5, 5, 7, 8, 9]\n",
    "print(binary_search(arr, 5, 0, len(arr) - 1, first_occ=False))\n",
    "# * TC = O(logn) - Binary search first occurrence and last occurrence"
   ]
  },
  {
   "cell_type": "code",
   "execution_count": 12,
   "id": "a73803f4",
   "metadata": {},
   "outputs": [
    {
     "name": "stdout",
     "output_type": "stream",
     "text": [
      "4\n"
     ]
    }
   ],
   "source": [
    "result = -1\n",
    "\n",
    "def binary_search2(arr, ele, start, end, result, first_occ):\n",
    "        if start >= end:\n",
    "            return result\n",
    "        \n",
    "        mid  = (start + end) // 2\n",
    "        if arr[mid] == ele:\n",
    "            result = mid\n",
    "            if first_occ:\n",
    "                end = mid - 1\n",
    "            else:\n",
    "                start = mid + 1\n",
    "        elif arr[mid] > ele:\n",
    "                start = mid + 1\n",
    "        else:\n",
    "                end = mid - 1\n",
    "        \n",
    "        return  binary_search2(arr, ele, start, end, result, first_occ)\n",
    "    \n",
    "arr = [1, 2, 3, 4, 5, 5, 5, 7, 8, 9]\n",
    "print(binary_search2(arr, 5, 0, len(arr) - 1, result, first_occ=False))"
   ]
  },
  {
   "cell_type": "code",
   "execution_count": 50,
   "id": "52c1a8ea",
   "metadata": {},
   "outputs": [
    {
     "name": "stdout",
     "output_type": "stream",
     "text": [
      "32\n"
     ]
    }
   ],
   "source": [
    "def pow(x: int, n: int):\n",
    "    if n == 0:\n",
    "        return 1\n",
    "\n",
    "    temp = pow(x, n // 2)\n",
    "    if n % 2:\n",
    "        return temp * temp * x\n",
    "    return temp * temp\n",
    "\n",
    "\n",
    "print(pow(2, 5))\n",
    "# * TC = O(logn), else O(n) iterative approach"
   ]
  },
  {
   "cell_type": "code",
   "execution_count": 48,
   "id": "a25c0d4d",
   "metadata": {},
   "outputs": [
    {
     "name": "stdout",
     "output_type": "stream",
     "text": [
      "10\n"
     ]
    }
   ],
   "source": [
    "def find_missing_ap(arr: list, start, end, diff):\n",
    "    if start > end:\n",
    "        return float('inf')\n",
    "\n",
    "    mid = (start + end) // 2\n",
    "    if arr[mid+1] - arr[mid] != diff:\n",
    "        return arr[mid] + diff\n",
    "    elif mid > 0 and arr[mid] - arr[mid-1] != diff:\n",
    "        return arr[mid-1] + diff\n",
    "\n",
    "    if arr[mid] == arr[start] + mid * diff:\n",
    "        return find_missing_ap(arr, mid+1, end, diff)\n",
    "\n",
    "    return find_missing_ap(arr, start, mid-1, diff)\n",
    "\n",
    "print(find_missing_ap([1, 4, 7, 13, 16], 0, 5-1, 3))\n",
    "# * TC = O(logn)"
   ]
  },
  {
   "cell_type": "code",
   "execution_count": 51,
   "id": "025f580c",
   "metadata": {},
   "outputs": [
    {
     "name": "stdout",
     "output_type": "stream",
     "text": [
      "2\n"
     ]
    }
   ],
   "source": [
    "def search_sorted_array(arr, start, end):\n",
    "    if start >= end:\n",
    "        return float('inf')\n",
    "\n",
    "    mid = (start + end) // 2\n",
    "    if arr[mid] == mid:\n",
    "        return mid\n",
    "    elif arr[mid] > mid:\n",
    "        start = mid + 1\n",
    "    else:\n",
    "        end = mid - 1\n",
    "        \n",
    "    return search_index(arr, start, end)\n",
    "\n",
    "\n",
    "print(sorted_search_array([-4, -3, 2, 4, 5], 0, 5-1))\n",
    "# * TC = O(logn)"
   ]
  },
  {
   "cell_type": "code",
   "execution_count": 42,
   "id": "9112242d",
   "metadata": {},
   "outputs": [
    {
     "name": "stdout",
     "output_type": "stream",
     "text": [
      "5\n"
     ]
    }
   ],
   "source": [
    "def get_peak_element(arr, start, end):\n",
    "    if start == end:\n",
    "        return start\n",
    "    if end == start + 1 and arr[start] >= arr[end]:\n",
    "        return arr[start]\n",
    "    elif end == start + 1 and arr[end] >= arr[start]:\n",
    "        return arr[end]\n",
    "\n",
    "    mid = (start + end) // 2  # * Hill condiiton\n",
    "    if arr[mid - 1] < arr[mid] and arr[mid] > arr[mid + 1]:\n",
    "        return arr[mid]\n",
    "\n",
    "    if arr[mid] > arr[mid-1] and arr[mid] < arr[mid+1]:\n",
    "        start = mid+1\n",
    "    else:\n",
    "        end = mid-1\n",
    "    return get_peak_element(arr, start, end)\n",
    "\n",
    "\n",
    "print(get_peak_element([1, 2, 3, 4, 5, 3], 0, 6-1))\n",
    "# * TC = O(logn)"
   ]
  },
  {
   "cell_type": "code",
   "execution_count": 43,
   "id": "dc2ca841",
   "metadata": {},
   "outputs": [
    {
     "name": "stdout",
     "output_type": "stream",
     "text": [
      "15.0\n"
     ]
    }
   ],
   "source": [
    "def median(arr, size):\n",
    "    \"\"\"Sorted array.\"\"\"\n",
    "    if size % 2 == 0:\n",
    "        return arr[size // 2]\n",
    "    else:\n",
    "        return arr[size//2 - 1] + arr[size//2]\n",
    "\n",
    "    \n",
    "def median_2_sorted_arr(arr1, arr2, size):\n",
    "    if size == 1:\n",
    "        return (arr1[0] + arr2[0]) / 2\n",
    "    if size == 2:\n",
    "        return (max(arr1[0], arr2[0]) + min(arr1[1], arr2[1])) / 2\n",
    "\n",
    "    median1 = median(arr1, size)\n",
    "    median2 = median(arr2, size)\n",
    "    if median1 == median2:\n",
    "        return median1\n",
    "\n",
    "    if median2 > median1:\n",
    "        # Search in right half arr1 and left half of arr2\n",
    "        # * TODO size % 2 == 0 checks...\n",
    "        return median_2_sorted_arr(arr1[size//2:], arr2[0:size//2], size // 2)\n",
    "    # Search in left half arr1 and right half of arr2\n",
    "    return median_2_sorted_arr(arr1[0:size//2], arr2[size//2:], size // 2)\n",
    "\n",
    "\n",
    "print(median_2_sorted_arr([1, 5, 7, 21, 34], [25, 54, 59, 67, 75], 2))\n",
    "# * TC = O(logn)"
   ]
  },
  {
   "cell_type": "code",
   "execution_count": 45,
   "id": "8ad1ae58",
   "metadata": {},
   "outputs": [
    {
     "name": "stdout",
     "output_type": "stream",
     "text": [
      "Found @>>>>: 2, 0\n"
     ]
    }
   ],
   "source": [
    "def search_sorted_matrix(mat: [[]], ele: int):\n",
    "    row = len(mat)\n",
    "    col = len(mat[0])\n",
    "\n",
    "    i = 0\n",
    "    j = col-1\n",
    "    while i < row and j > -1:\n",
    "        if mat[i][j] == ele:\n",
    "            print(f'Found @>>>>: {i}, {j}')\n",
    "            return\n",
    "        elif mat[i][j] > ele:\n",
    "            j -= 1\n",
    "        else:\n",
    "            i += 1\n",
    "    print('Not found')\n",
    "    \n",
    "search_sorted_matrix([[1, 2], [3, 4], [10, 60]], 10)\n",
    "# * TC = O(max(n,m))"
   ]
  },
  {
   "cell_type": "markdown",
   "id": "4be54a60",
   "metadata": {},
   "source": [
    "## 02 Dynamic Programming"
   ]
  },
  {
   "cell_type": "markdown",
   "id": "39c74998",
   "metadata": {},
   "source": [
    "### 01 Kadane's Algorithm works with atleast one positive element"
   ]
  },
  {
   "cell_type": "code",
   "execution_count": 58,
   "id": "77c11827",
   "metadata": {},
   "outputs": [
    {
     "name": "stdout",
     "output_type": "stream",
     "text": [
      "Maxm sum subarray starts @10 and ends @11\n"
     ]
    }
   ],
   "source": [
    "def kadanes_algo(arr: list):\n",
    "    size = len(arr)\n",
    "    start, end = 0, 0\n",
    "    curr_sum, maxm_sum = 0, float('-inf')\n",
    "    \n",
    "    for index, ele in enumerate(arr):\n",
    "        curr_sum += ele\n",
    "        if curr_sum > maxm_sum:\n",
    "            end = index\n",
    "            maxm_sum = curr_sum\n",
    "        elif curr_sum < 0:\n",
    "            if index + 1 < size:\n",
    "                curr_sum = 0\n",
    "                start = index + 1\n",
    "            else:\n",
    "                return None\n",
    "    \n",
    "    print(f'Maxm sum subarray starts @{start} and ends @{end}')\n",
    "\n",
    "arr = [-13, -3, -25, -20, -3, -16, -23, -12, -5, -22, 15, 4, -7]\n",
    "kadanes_algo(arr)\n",
    "# * TC = O(n2) for naive approach\n",
    "# * TC = O(n) for kadane's algorithm"
   ]
  },
  {
   "cell_type": "markdown",
   "id": "ce3278a9",
   "metadata": {},
   "source": [
    "### 02 Maximum Sum Increasing Subsequence"
   ]
  },
  {
   "cell_type": "code",
   "execution_count": 62,
   "id": "f1f0ab73",
   "metadata": {},
   "outputs": [
    {
     "name": "stdout",
     "output_type": "stream",
     "text": [
      "111\n"
     ]
    }
   ],
   "source": [
    "def maxm_sum_subsequence(arr: list):\n",
    "    size = len(arr)\n",
    "    store = arr\n",
    "    \n",
    "    for i in range(1, size):\n",
    "        for j in range(0, i):\n",
    "            if all([arr[i] > arr[j], store[i] < store[j] + arr[i]]):\n",
    "                store[i] = store[j] + arr[i]\n",
    "            \n",
    "    return max(store)\n",
    "\n",
    "arr = [1, 101, 2, 3, 100, 4, 5]\n",
    "print(maxm_sum_subsequence(arr))\n",
    "# * TC = O(n^2), SC = O(n)"
   ]
  },
  {
   "cell_type": "markdown",
   "id": "f1547822",
   "metadata": {},
   "source": [
    "### 03 Longest Increasing Subsequence (LIS)"
   ]
  },
  {
   "cell_type": "code",
   "execution_count": 65,
   "id": "69bca536",
   "metadata": {},
   "outputs": [
    {
     "name": "stdout",
     "output_type": "stream",
     "text": [
      "4\n"
     ]
    }
   ],
   "source": [
    "def LIS(arr: list):\n",
    "    size= len(arr)\n",
    "    store = [0] * size\n",
    "    \n",
    "    for i in range(1, size):\n",
    "        for j in range(0, i):\n",
    "            if all([arr[i] > arr[j], store[j] + 1 > store[i]]):\n",
    "                store[i] = store[j] + 1\n",
    "    \n",
    "    return max(store)\n",
    "\n",
    "arr = [1, 101, 2, 3, 100, 4, 5]\n",
    "print(LIS(arr))\n",
    "# * TC = O(n^2), SC = O(n)"
   ]
  },
  {
   "cell_type": "markdown",
   "id": "60f35700",
   "metadata": {},
   "source": [
    "### 04 Longest Decreasing Subsequence (LDS)"
   ]
  },
  {
   "cell_type": "code",
   "execution_count": 67,
   "id": "042f7a3d",
   "metadata": {},
   "outputs": [
    {
     "name": "stdout",
     "output_type": "stream",
     "text": [
      "3\n"
     ]
    }
   ],
   "source": [
    "def LDS(arr: list):\n",
    "    size= len(arr)\n",
    "    store = [0] * size\n",
    "    \n",
    "    for i in range(size - 2, -1, -1):\n",
    "        for j in range(size - 1, i, -1):\n",
    "            if all([arr[i] > arr[j], store[j] + 1 > store[i]]):\n",
    "                store[i] = store[j] + 1\n",
    "    \n",
    "    return max(store)\n",
    "\n",
    "arr = [10, 101, 2, 3, 100, 4, 5]\n",
    "print(LIS(arr))\n",
    "# * TC = O(n^2), SC = O(n)"
   ]
  },
  {
   "cell_type": "markdown",
   "id": "ee7d3d51",
   "metadata": {},
   "source": [
    "### 05 Perfect Hill Problem"
   ]
  },
  {
   "cell_type": "code",
   "execution_count": 68,
   "id": "af6d5007",
   "metadata": {},
   "outputs": [
    {
     "name": "stdout",
     "output_type": "stream",
     "text": [
      "3\n"
     ]
    }
   ],
   "source": [
    "def perfevt_hill_problem(arr: list):\n",
    "        size = len(arr)\n",
    "        hills = [0] * size\n",
    "        \n",
    "        lis_store = [0] * size\n",
    "        for i in range(1, size):\n",
    "            for j in range(0, i):\n",
    "                if all([arr[i] > arr[j], lis_store[j] + 1 > lis_store[i]]):\n",
    "                    lis_store[i] = lis_store[j] + 1\n",
    "\n",
    "        lds_store = [0] * size\n",
    "        for i in range(size - 2, -1, -1):\n",
    "            for j in range(size - 1, i, -1):\n",
    "                if all([arr[i] > arr[j], lds_store[j] + 1 > lds_store[i]]):\n",
    "                    lds_store[i] = lds_store[j] + 1\n",
    "\n",
    "        for i in range(size):\n",
    "            hills[i] = min(lis_store[i], lds_store[i]) * 2 - 1\n",
    "        \n",
    "        return max(hills)\n",
    "\n",
    "arr = [10, 101, 2, 3, 100, 4, 5]\n",
    "print(LIS(arr))\n",
    "# * TC = O(n^2), SC = O(n)"
   ]
  },
  {
   "cell_type": "markdown",
   "id": "80f2aa2e",
   "metadata": {},
   "source": [
    "### 06 Maximum sum square sub-matrix (with all 1s)"
   ]
  },
  {
   "cell_type": "code",
   "execution_count": 88,
   "id": "12336465",
   "metadata": {},
   "outputs": [
    {
     "name": "stdout",
     "output_type": "stream",
     "text": [
      "[[0, 2, 3, 4, 2], [0, 2, 3, 4, 2], [0, 2, 3, 4, 2], [0, 2, 3, 4, 2], [0, 2, 3, 4, 2], [0, 2, 3, 4, 2]]\n"
     ]
    },
    {
     "data": {
      "text/plain": [
       "4"
      ]
     },
     "execution_count": 88,
     "metadata": {},
     "output_type": "execute_result"
    }
   ],
   "source": [
    "def largest_submatrix_all_1s(matrix: [[]]):\n",
    "        row = len(matrix)\n",
    "        col = len(matrix[0])\n",
    "        maxm = float('-inf')\n",
    "        \n",
    "        store = [[0] * col ] * row\n",
    "        for i in range(row):\n",
    "            for j in range(col):\n",
    "                if any([i == 0, j == 0]):\n",
    "                    store[i][j] = matrix[i][j]\n",
    "                else:\n",
    "                    if matrix[i][j] == 1:\n",
    "                        store[i][j] = min(store[i-1][j], store[i][j-1], store[i-1][j-1]) + matrix[i][j]\n",
    "                        maxm = max(maxm, store[i][j])\n",
    "                    \n",
    "        print(store)\n",
    "        return maxm\n",
    "\n",
    "matrix = [[0, 1, 1, 0, 1],\n",
    "    [1, 1, 0, 1, 0],\n",
    "    [0, 1, 1, 1, 0],\n",
    "    [1, 1, 1, 1, 0],\n",
    "    [1, 1, 1, 1, 1],\n",
    "    [0, 0, 0, 0, 0]]\n",
    "largest_submatrix_all_1s(matrix)\n",
    "# * TC = O(n3 * n2) = O(n5) via naive approach\n",
    "# * TC = O(n2) via dp approach, SC = O(n2)"
   ]
  },
  {
   "cell_type": "markdown",
   "id": "064aad95",
   "metadata": {},
   "source": [
    "### 07 Find kth Ugly number"
   ]
  },
  {
   "cell_type": "code",
   "execution_count": 6,
   "id": "058e9420",
   "metadata": {},
   "outputs": [
    {
     "name": "stdout",
     "output_type": "stream",
     "text": [
      "5832\n"
     ]
    }
   ],
   "source": [
    "def find_kth_ugly_number(k: int):\n",
    "    ugly = [0] * k\n",
    "\n",
    "    ugly[0] = 1\n",
    "    i2 = i3 = i5 = 0\n",
    "\n",
    "    # Set initial multiple value\n",
    "    next_multiple_of_2 = 2\n",
    "    next_multiple_of_3 = 3\n",
    "    next_multiple_of_5 = 5\n",
    "\n",
    "    for i in range(1, k):\n",
    "        ugly[i] = min(next_multiple_of_2,\n",
    "                      next_multiple_of_3,\n",
    "                      next_multiple_of_5)\n",
    "\n",
    "        if ugly[i] == next_multiple_of_2:\n",
    "            i2 += 1\n",
    "            next_multiple_of_2 = ugly[i2] * 2\n",
    "        if ugly[i] == next_multiple_of_3:\n",
    "            i3 += 1\n",
    "            next_multiple_of_3 = ugly[i3] * 3\n",
    "        if ugly[i] == next_multiple_of_5:\n",
    "            i5 += 1\n",
    "            next_multiple_of_5 = ugly[i5] * 5\n",
    "    \n",
    "    # print(ugly)\n",
    "    return ugly[-1]\n",
    "\n",
    "    \n",
    "print(find_kth_ugly_number(150))\n",
    "# * TC = O(n), SC = O(n )"
   ]
  },
  {
   "cell_type": "markdown",
   "id": "ddd5f749",
   "metadata": {},
   "source": [
    "## 03 Greedy Algos, Need maxm / minm"
   ]
  },
  {
   "cell_type": "code",
   "execution_count": 17,
   "id": "67e1949b",
   "metadata": {},
   "outputs": [
    {
     "name": "stdout",
     "output_type": "stream",
     "text": [
      "39\n"
     ]
    }
   ],
   "source": [
    "import heapq\n",
    "\n",
    "def find_minm_cost(arr, size):\n",
    "    heapq.heapify(arr)\n",
    "    \n",
    "    while size > 1:\n",
    "        size -= 1\n",
    "        min1 = heapq.heappop(arr)\n",
    "        min2 = heapq.heappop(arr)\n",
    "        heapq.heappush(arr, min1 + min2)\n",
    "\n",
    "    return heapq.heappop(arr)\n",
    "\n",
    "print(find_minm_cost([2, 3, 5, 7, 9, 13], 6))\n",
    "# * TC = O(nlogn)"
   ]
  },
  {
   "cell_type": "code",
   "execution_count": 35,
   "id": "998076fb",
   "metadata": {},
   "outputs": [
    {
     "name": "stdout",
     "output_type": "stream",
     "text": [
      "3\n"
     ]
    }
   ],
   "source": [
    "def find_no_of_platforms(arr, dep):\n",
    "    size = len(arr)\n",
    "    arr = sorted(arr, reverse=False)\n",
    "    dep = sorted(dep, reverse=False)\n",
    "     \n",
    "    i, j = 1, 0\n",
    "    plat_needed = 1\n",
    "    max_platforms = 1\n",
    "   \n",
    "    while i < size and j < size:\n",
    "        if arr[i] < dep[j]:\n",
    "            i += 1\n",
    "            plat_needed += 1\n",
    "            if plat_needed > max_platforms:\n",
    "                max_platforms = plat_needed\n",
    "        else:\n",
    "            j += 1\n",
    "            plat_needed -= 1\n",
    "            \n",
    "    return max_platforms\n",
    "\n",
    "\n",
    "print(\n",
    "    find_no_of_platforms(\n",
    "        [10.00, 10.15, 10.30, 10.40],\n",
    "        [10.20, 14.00, 15.00, 10.55]))"
   ]
  },
  {
   "cell_type": "markdown",
   "id": "5f0b2761",
   "metadata": {},
   "source": [
    "## 04 Backtracking"
   ]
  },
  {
   "cell_type": "code",
   "execution_count": null,
   "id": "a03a031c",
   "metadata": {},
   "outputs": [],
   "source": []
  },
  {
   "cell_type": "code",
   "execution_count": null,
   "id": "5753d66e",
   "metadata": {},
   "outputs": [],
   "source": []
  },
  {
   "cell_type": "markdown",
   "id": "1dcfd72c",
   "metadata": {},
   "source": [
    "## 05 Pattern Matching"
   ]
  },
  {
   "cell_type": "code",
   "execution_count": 91,
   "id": "e6a3e57a",
   "metadata": {},
   "outputs": [
    {
     "name": "stdout",
     "output_type": "stream",
     "text": [
      "Found pattern starting from @4th position in text\n"
     ]
    }
   ],
   "source": [
    "def naive_search(text: str, pattern: str):\n",
    "    for i, char in enumerate(text):\n",
    "        for j, char in enumerate(pattern):\n",
    "            if text[i + j] != pattern[j]:\n",
    "                break\n",
    "        if j == len(pattern) - 1:\n",
    "            print(f'Found pattern starting from @{i + 1}th position in text')\n",
    "\n",
    "\n",
    "naive_search(text='pattern', pattern='tern')\n",
    "# * TC = O(nm)"
   ]
  },
  {
   "cell_type": "code",
   "execution_count": null,
   "id": "50575665",
   "metadata": {},
   "outputs": [],
   "source": [
    "def kmp(text: str, pattern: str):\n",
    "    pass\n",
    "\n",
    "# * TC = O(mSigma + n)"
   ]
  },
  {
   "cell_type": "code",
   "execution_count": 34,
   "id": "711771cd",
   "metadata": {},
   "outputs": [
    {
     "name": "stdout",
     "output_type": "stream",
     "text": [
      "Found pattern starting from @4th position in text\n"
     ]
    }
   ],
   "source": [
    "def prepare_last_occ(pattern: str) -> dict:\n",
    "    result = {}\n",
    "    m = len(pattern)\n",
    "\n",
    "    for index in range(m - 1, -1, -1):\n",
    "        ele = pattern[index]\n",
    "\n",
    "        if ele in result:\n",
    "            continue\n",
    "        result[ele] = index\n",
    "\n",
    "    return result\n",
    "\n",
    "\n",
    "def boyer_moore_algorithm(text: str, pattern: str):\n",
    "    n = len(text)\n",
    "    m = len(pattern)\n",
    "    last_occurrence = prepare_last_occ(pattern)\n",
    "\n",
    "    i, j = m - 1, m - 1\n",
    "    while i < n:\n",
    "        if text[i] == pattern[j]:\n",
    "            if j == 0:\n",
    "                print(\n",
    "                    f'Found pattern starting from @{i + 1}th position in text')\n",
    "                break\n",
    "            else:\n",
    "                i -= 1\n",
    "                j -= 1\n",
    "        else:\n",
    "            j = m - 1\n",
    "            i = i + m - min(j, 1 + last_occurrence[text[i]])\n",
    "            # 3 + 4 - min(3, 1 + 0) = 6\n",
    "\n",
    "\n",
    "boyer_moore_algorithm(text='pattern', pattern='tern')\n",
    "# * TC = Omega(n / m), O(nm)"
   ]
  },
  {
   "cell_type": "code",
   "execution_count": null,
   "id": "5543b757",
   "metadata": {},
   "outputs": [],
   "source": [
    "def rabin_karp_algorithm(text: str, pattern: str):\n",
    "    pass\n",
    "\n",
    "# * TC = Omega(n + m), O(nm)"
   ]
  },
  {
   "cell_type": "markdown",
   "id": "db90c9b5",
   "metadata": {},
   "source": [
    "## 06 Bit Manipulation Algorithms"
   ]
  },
  {
   "cell_type": "code",
   "execution_count": 8,
   "id": "5c44c603",
   "metadata": {},
   "outputs": [],
   "source": [
    "import math"
   ]
  },
  {
   "cell_type": "code",
   "execution_count": 9,
   "id": "76583741",
   "metadata": {},
   "outputs": [],
   "source": [
    "def to_binary(n: int):\n",
    "    return bin(n).replace('0b', '')"
   ]
  },
  {
   "cell_type": "code",
   "execution_count": 10,
   "id": "f636c786",
   "metadata": {},
   "outputs": [
    {
     "name": "stdout",
     "output_type": "stream",
     "text": [
      "In Binary/Base 2: 1100011\n",
      "\n",
      "Check weather kth bit present or not: False\n",
      "Set the kth bit and print : 103\n",
      "\n",
      "Clear the kth bit and print: 99\n",
      "Toggle the kth bit and print: 103\n"
     ]
    }
   ],
   "source": [
    "def perform_bitwise_ops(n: int, k: int):\n",
    "    kth_shift = 1 << (k - 1)\n",
    "    print(f'In Binary/Base 2: {to_binary(n)}\\n')\n",
    "\n",
    "    print(f'Check weather kth bit present or not: {bool(n & kth_shift)}')\n",
    "    print(f'Set the kth bit and print : {n | kth_shift}\\n')\n",
    "\n",
    "    print(f'Clear the kth bit and print: {n & ~kth_shift}')\n",
    "    print(f'Toggle the kth bit and print: {n ^ kth_shift}')\n",
    "\n",
    "\n",
    "n = 99\n",
    "perform_bitwise_ops(99, k=3)"
   ]
  },
  {
   "cell_type": "code",
   "execution_count": 33,
   "id": "c0e20ef9",
   "metadata": {},
   "outputs": [
    {
     "name": "stdout",
     "output_type": "stream",
     "text": [
      "1000\n"
     ]
    }
   ],
   "source": [
    "def multiply_without_mul_operator(n: int):\n",
    "    return to_binary(n)\n",
    "\n",
    "\n",
    "print(multiply_without_mul_operator(8))"
   ]
  },
  {
   "cell_type": "code",
   "execution_count": 32,
   "id": "2a6088d2",
   "metadata": {},
   "outputs": [
    {
     "name": "stdout",
     "output_type": "stream",
     "text": [
      "8.0\n"
     ]
    }
   ],
   "source": [
    "def next_highest_power_of_base(n: int, base: int = 2):\n",
    "    return math.pow(base, math.floor(math.log(n, base)) + 1)\n",
    "\n",
    "\n",
    "print(next_highest_power_of_base(n=7))"
   ]
  },
  {
   "cell_type": "code",
   "execution_count": 27,
   "id": "88eafd37",
   "metadata": {},
   "outputs": [
    {
     "name": "stdout",
     "output_type": "stream",
     "text": [
      "False\n",
      "True\n"
     ]
    }
   ],
   "source": [
    "def check_power_of_base(n: int, base: int = 2):\n",
    "    if n == 0:\n",
    "        return False\n",
    "    elif n == 1:\n",
    "        return True\n",
    "\n",
    "    while n > 1:\n",
    "        residue = n % base\n",
    "        if residue:\n",
    "            return False\n",
    "        n //= base\n",
    "\n",
    "    return True\n",
    "\n",
    "\n",
    "print(check_power_of_base(n=7, base=4))\n",
    "print(check_power_of_base(n=16, base=4))"
   ]
  },
  {
   "cell_type": "markdown",
   "id": "cf99a622",
   "metadata": {},
   "source": [
    "## 07 Mathematical Algorithms"
   ]
  },
  {
   "cell_type": "code",
   "execution_count": 30,
   "id": "74727478",
   "metadata": {},
   "outputs": [
    {
     "name": "stdout",
     "output_type": "stream",
     "text": [
      "True\n",
      "False\n"
     ]
    }
   ],
   "source": [
    "import math\n",
    "\n",
    "DEC_BASE = 10\n",
    "\n",
    "def is_lucky(num):\n",
    "    h = [0] * DEC_BASE\n",
    "    \n",
    "    while num > 0:\n",
    "        q = num % DEC_BASE\n",
    "        if h[q] > 0:\n",
    "            return False\n",
    "        h[q] += 1\n",
    "        num //= DEC_BASE\n",
    "        \n",
    "    return True\n",
    "\n",
    "\n",
    "print(is_lucky(123456))\n",
    "print(is_lucky(375746))\n",
    "# * T.C. = O(logn)"
   ]
  },
  {
   "cell_type": "code",
   "execution_count": 22,
   "id": "09111e7c",
   "metadata": {},
   "outputs": [
    {
     "name": "stdout",
     "output_type": "stream",
     "text": [
      "True\n"
     ]
    }
   ],
   "source": [
    "def is_prime(num):\n",
    "    for ele in range(2, math.floor(math.sqrt(num)) + 1):\n",
    "        if num % ele:\n",
    "            continue\n",
    "        else:\n",
    "            return False\n",
    "        \n",
    "    return True\n",
    "\n",
    "\n",
    "print(is_prime(13))\n",
    "# * T.C. = O(sqrt(n))"
   ]
  },
  {
   "cell_type": "code",
   "execution_count": 21,
   "id": "d863d833",
   "metadata": {},
   "outputs": [
    {
     "name": "stdout",
     "output_type": "stream",
     "text": [
      "2\n",
      "3\n",
      "5\n",
      "7\n"
     ]
    }
   ],
   "source": [
    "def print_prime(n):\n",
    "    prime = [True] * (n + 1)\n",
    "    prime[0] = False\n",
    "    prime[1] = False\n",
    "    \n",
    "    for ele in range(2, n + 1):\n",
    "        if prime[ele]:\n",
    "            temp = ele * 2\n",
    "            while temp < n+1:\n",
    "                prime[temp] = False\n",
    "                temp += ele\n",
    "\n",
    "    for ele in range(n):\n",
    "        if prime[ele]:\n",
    "            print(ele)\n",
    "\n",
    "\n",
    "print_prime(9)\n",
    "# * T.C. =  < O(n * sqrt(n))"
   ]
  },
  {
   "cell_type": "code",
   "execution_count": null,
   "id": "ff2a142e",
   "metadata": {},
   "outputs": [],
   "source": []
  }
 ],
 "metadata": {
  "kernelspec": {
   "display_name": "Python 3 (ipykernel)",
   "language": "python",
   "name": "python3"
  },
  "language_info": {
   "codemirror_mode": {
    "name": "ipython",
    "version": 3
   },
   "file_extension": ".py",
   "mimetype": "text/x-python",
   "name": "python",
   "nbconvert_exporter": "python",
   "pygments_lexer": "ipython3",
   "version": "3.9.7"
  }
 },
 "nbformat": 4,
 "nbformat_minor": 5
}
